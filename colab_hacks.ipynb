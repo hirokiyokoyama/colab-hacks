{
  "nbformat": 4,
  "nbformat_minor": 0,
  "metadata": {
    "colab": {
      "name": "colab_hacks.ipynb",
      "provenance": [],
      "collapsed_sections": [],
      "authorship_tag": "ABX9TyPl63TAHQj9F5eEA4fXCHUI",
      "include_colab_link": true
    },
    "kernelspec": {
      "name": "python3",
      "display_name": "Python 3"
    }
  },
  "cells": [
    {
      "cell_type": "markdown",
      "metadata": {
        "id": "view-in-github",
        "colab_type": "text"
      },
      "source": [
        "<a href=\"https://colab.research.google.com/github/hirokiyokoyama/colab-hacks/blob/master/colab_hacks.ipynb\" target=\"_parent\"><img src=\"https://colab.research.google.com/assets/colab-badge.svg\" alt=\"Open In Colab\"/></a>"
      ]
    },
    {
      "cell_type": "markdown",
      "metadata": {
        "id": "2Zdc6Mag_cnL",
        "colab_type": "text"
      },
      "source": [
        "APIで公開するコードセルは、一行目に\"#@title [名前]\"、二行目に\"#export\"をつける。\n"
      ]
    },
    {
      "cell_type": "markdown",
      "metadata": {
        "id": "zyGVdVhxfEqZ",
        "colab_type": "text"
      },
      "source": [
        "# Javascriptとの連携\n",
        "- ブラウザ側で動作するJavascriptとカーネル側で動作するPythonとの連携\n",
        "- ブラウザでのマウスやキーボードのイベントをトリガーとして、カーネル上の関数を実行する。\n",
        "- カーネルでの処理中に、セル（別のセルも可）の出力領域に画像や図形などを描画する。"
      ]
    },
    {
      "cell_type": "code",
      "metadata": {
        "id": "6hbfPKwBziEV",
        "colab_type": "code",
        "cellView": "form",
        "colab": {}
      },
      "source": [
        "#@title Javascript extensions\n",
        "#export\n",
        "\n",
        "import IPython\n",
        "from base64 import b64encode, b64decode\n",
        "import cv2\n",
        "from collections import namedtuple\n",
        "from google.colab import output\n",
        "import json\n",
        "from functools import partial, partialmethod\n",
        "\n",
        "event_fields = ['type', 'isTrusted']\n",
        "Event = namedtuple('Event',  event_fields)\n",
        "MouseEvent = namedtuple('MouseEvent',  event_fields + [\n",
        "  'button', 'buttons',\n",
        "  'x', 'y', 'clientX', 'clientY', 'offsetX', 'offsetY', 'pageX', 'pageY', 'screenX', 'screenY',\n",
        "  'movementX', 'movementY',\n",
        "  'relatedTarget',\n",
        "  'altKey', 'ctrlKey', 'metaKey', 'shiftKey'\n",
        "])\n",
        "KeyboardEvent = namedtuple('KeyboardEvent',  event_fields + [\n",
        "  'key', 'keyCode', 'code',\n",
        "  'altKey', 'ctrlKey', 'metaKey', 'shiftKey',\n",
        "  'isComposing', 'location', 'repeat'\n",
        "])\n",
        "\n",
        "def to_js_expr(x):\n",
        "  if isinstance(x, bool):\n",
        "    x = str(x).lower()\n",
        "  elif isinstance(x, str):\n",
        "    x = \"'\" + x + \"'\"\n",
        "  else:\n",
        "    x = str(x)\n",
        "  return x\n",
        "\n",
        "class JSElement(object):\n",
        "  def __init__(self):\n",
        "    self._id = hex(id(self))[2:]\n",
        "    self._event_listeners = {}\n",
        "    event_fields = ','.join([\"'{0}':e.{0}\".format(f) for f in Event._fields])\n",
        "    mouse_event_fields = ','.join([\"'{0}':e.{0}\".format(f) for f in MouseEvent._fields])\n",
        "    key_event_fields = ','.join([\"'{0}':e.{0}\".format(f) for f in KeyboardEvent._fields])\n",
        "    js = '''\n",
        "      function stringifyEvent(e) {{\n",
        "        if(e.type.indexOf('mouse') != -1 || e.type.indexOf('click') != -1) {{\n",
        "          return JSON.stringify({{ {1} }}); \n",
        "        }}\n",
        "        else if(e.type.indexOf('key') != -1) {{\n",
        "          return JSON.stringify({{ {2} }});\n",
        "        }}\n",
        "        else {{\n",
        "          return JSON.stringify({{ {3} }});\n",
        "        }}\n",
        "      }}\n",
        "\n",
        "      const listenerChannel = new BroadcastChannel('{0}.event');\n",
        "      listenerChannel.onmessage = (msg) => {{\n",
        "        var elem = document.getElementById('{0}');\n",
        "        var listener = (e) => {{ google.colab.kernel.invokeFunction(msg.data[2], [stringifyEvent(e)], {{}}); }}\n",
        "        if(msg.data[0] == 'add') {{\n",
        "          elem.addEventListener(msg.data[1], listener);\n",
        "        }}\n",
        "        else if(msg.data[0] == 'remove') {{\n",
        "          elem.removeEventListener(msg.data[1], listener);          \n",
        "        }}\n",
        "      }};\n",
        "    '''.format(self._id, mouse_event_fields, key_event_fields, event_fields)\n",
        "    display(IPython.display.Javascript(js))\n",
        "    \n",
        "  def add_event_listener(self, typ, callback):\n",
        "    self._event_listeners.setdefault(typ, []).append(callback)\n",
        "\n",
        "    if not hasattr(self, '_cb_id'):\n",
        "      self._cb_id = 'notebook.obj{}'.format(self._id)\n",
        "      output.register_callback(self._cb_id, self._callback)\n",
        "    js = '''\n",
        "      const senderChannel = new BroadcastChannel('{0}.event');\n",
        "      senderChannel.postMessage(['add', '{1}', '{2}']);\n",
        "    '''.format(self._id, typ, self._cb_id)\n",
        "    display(IPython.display.Javascript(js))\n",
        "\n",
        "  def remove_event_listener(self, typ, callback):\n",
        "    self._event_listeners.get(typ, []).remove(callback)\n",
        "\n",
        "  def _callback(self, event):\n",
        "    event = json.loads(event)\n",
        "    typ = event['type']\n",
        "    if 'mouse' in typ or 'click' in typ:\n",
        "      event = MouseEvent(**event)\n",
        "    elif 'key' in typ:\n",
        "      event = KeyboardEvent(**event)\n",
        "    else:\n",
        "      event = Event(**event)\n",
        "    for listener in self._event_listeners.get(typ, []):\n",
        "      listener(event)\n",
        "\n",
        "class Canvas(JSElement):\n",
        "  def __init__(self, width, height):\n",
        "    super().__init__()\n",
        "    self._width = width\n",
        "    self._height = height\n",
        "\n",
        "    js = '''\n",
        "      const listenerChannel = new BroadcastChannel('{0}');\n",
        "      const canvas = document.createElement('canvas');\n",
        "      canvas.id = '{0}';\n",
        "      canvas.width = {1};\n",
        "      canvas.height = {2};\n",
        "      document.body.appendChild(canvas);\n",
        "      const c = canvas.getContext('2d');\n",
        "\n",
        "      listenerChannel.onmessage = (msg) => {{\n",
        "        const cmd = msg.data[0];\n",
        "        const args = msg.data.slice(1);\n",
        "        var result;\n",
        "        switch(cmd) {{\n",
        "          case 'drawImage':\n",
        "            const img = new Image();\n",
        "            img.onload = function() {{ c.drawImage.apply(c, [img].concat(args.slice(1))); }};\n",
        "            img.src = args[0];\n",
        "            break;\n",
        "          case 'measureText':\n",
        "            result = {{'width': c.measureText(args[0]).width}};\n",
        "            break;\n",
        "          case 'toDataURL':\n",
        "            result = canvas.toDataURL();\n",
        "            break;\n",
        "          case 'set':\n",
        "            c[args[0]] = args[1];\n",
        "            break;\n",
        "          case 'get':\n",
        "            result = c[args[0]];\n",
        "            break;\n",
        "          default:\n",
        "            result = c[cmd].apply(c, args);\n",
        "            break;\n",
        "        }}\n",
        "        if(result !== undefined)\n",
        "          listenerChannel.postMessage(JSON.stringify(result));\n",
        "      }};\n",
        "    '''.format(self._id, width, height)\n",
        "    display(IPython.display.Javascript(js))\n",
        "\n",
        "  def _post_message(self, *msg, _wait_for_result=True):\n",
        "    msg = [to_js_expr(x) for x in msg]\n",
        "    if _wait_for_result:\n",
        "      result = output.eval_js('''\n",
        "        const senderChannel = new BroadcastChannel('{}');\n",
        "        new Promise(resolve => {{\n",
        "          senderChannel.onmessage = (msg) => {{\n",
        "            resolve(msg.data);\n",
        "          }};\n",
        "          senderChannel.postMessage([{}]);\n",
        "        }})\n",
        "      '''.format(self._id, ', '.join(msg)))\n",
        "    else:\n",
        "      display(IPython.display.Javascript('''\n",
        "        const senderChannel = new BroadcastChannel('{}');\n",
        "        senderChannel.postMessage([{}]);\n",
        "      '''.format(self._id, ', '.join(msg))))\n",
        "      result = None\n",
        "    if result is not None:\n",
        "      return json.loads(result)\n",
        "\n",
        "  def to_image(self):\n",
        "    img = self._post_message('toDataURL')\n",
        "    img = b64decode(img.split(',')[1])\n",
        "    img = cv2.imdecode(np.fromstring(img, np.uint8), cv2.IMREAD_UNCHANGED)\n",
        "    return img[:,:,[2,1,0,3]]\n",
        "\n",
        "  #CanvasRenderingContext2D\n",
        "  def drawImage(self, img, *args):\n",
        "    if len(args) not in [2, 4, 8]:\n",
        "      raise ValueError('Invalid number of arguments.')\n",
        "    if not isinstance(img, str):\n",
        "      if len(img.shape) == 3 and img.shape[2] == 3:\n",
        "        img = img[:,:,::-1]\n",
        "      elif len(img.shape) == 3 and img.shape[2] == 4:\n",
        "        img = img[:,:,[2,1,0,3]]\n",
        "      ret, buf = cv2.imencode('.png', img)\n",
        "      img = 'data:image/png;base64,'+b64encode(buf.tostring()).decode()\n",
        "    self._post_message('drawImage', img, *args, _wait_for_result=False)\n",
        "\n",
        "_context2d_properties = [\n",
        "  'font', 'textAlign', 'textBaseline', 'direction',\n",
        "  'shadowBlur', 'shadowColor', 'shadowOffsetX', 'shadowOffsetY',\n",
        "  'fillStyle', 'strokeStyle',\n",
        "  'globalAlpha', 'globalCompositeOperation',\n",
        "  'imageSmoothingEnabled', 'imageSmoothingQuality',\n",
        "  'filter', 'lineWidth', 'lineCap', 'lineJoin', 'miterLimit', 'lineDashOffset'\n",
        "]\n",
        "for name in _context2d_properties:\n",
        "  def getter(name, obj):\n",
        "    return obj._post_message('get', name)\n",
        "  def setter(name, obj, value):\n",
        "    obj._post_message('set', name, value, _wait_for_result=False)\n",
        "  setattr(Canvas, name, property(partial(getter, name), partial(setter, name)))\n",
        "\n",
        "_context2d_methods = [\n",
        "  'clearRect', 'fillRect', 'strokeRect',\n",
        "  'fillText', 'strokeText', ['measureText'],\n",
        "  ['getLineDash'], 'setLineDash',\n",
        "  'createLinearGradient', 'createRadialGradient', 'createPattern',\n",
        "  'beginPath', 'closePath', 'moveTo', 'lineTo', 'bezierCurveTo', 'quadraticCurveTo', 'arc', 'arcTo', 'ellipse', 'rect',\n",
        "  'fill', 'stroke', 'drawFocusIfNeeded', 'scrollPathIntoView', 'clip', ['isPointInPath'], ['isPointInStroke'],\n",
        "  'rotate', 'scale', 'translate', 'transform', 'setTransform', 'resetTransform'\n",
        "]\n",
        "for name in _context2d_methods:\n",
        "  if isinstance(name, list):\n",
        "    name = name[0]\n",
        "    wait = True\n",
        "  else:\n",
        "    wait = False\n",
        "  def method(obj, name, wait, *args):\n",
        "    return obj._post_message(name, *args, _wait_for_result=wait)\n",
        "  setattr(Canvas, name, partialmethod(method, name, wait))\n",
        "\n",
        "class JSView(JSElement):\n",
        "  def __init__(self, typ, content, attr=None, initialdata=None):\n",
        "    super().__init__()\n",
        "    js = '''\n",
        "      const elem = document.createElement('{1}');\n",
        "      elem.id = '{0}';\n",
        "      document.body.appendChild(elem);\n",
        "\n",
        "      const listenerChannel = new BroadcastChannel('{0}');\n",
        "      listenerChannel.onmessage = (msg) => {{\n",
        "        elem.{2} = msg.data;\n",
        "      }};\n",
        "    '''.format(self._id, typ, content)\n",
        "    if attr:\n",
        "      for k, v in attr.items():\n",
        "        js += '''\n",
        "          elem.{} = {};\n",
        "        '''.format(k, to_js_expr(v))\n",
        "    display(IPython.display.Javascript(js))\n",
        "    if initialdata is not None:\n",
        "      self.show(initialdata)\n",
        "\n",
        "  def convert_data(self, data):\n",
        "    return data\n",
        "\n",
        "  def show(self, data):\n",
        "    data = self.convert_data(data)\n",
        "    js = '''\n",
        "      const senderChannel = new BroadcastChannel('{0}');\n",
        "      senderChannel.postMessage('{1}');\n",
        "    '''.format(self._id, data)\n",
        "    display(IPython.display.Javascript(js))\n",
        "\n",
        "class TextView(JSView):\n",
        "  def __init__(self, text=None):\n",
        "    super().__init__('input', 'value',\n",
        "                     attr={'type': 'text', 'readOnly': True}, initialdata=text)\n",
        "\n",
        "class ImageView(JSView):\n",
        "  def __init__(self, img=None):\n",
        "    super().__init__('img', 'src', initialdata=img)\n",
        "    \n",
        "  def convert_data(self, img):\n",
        "    if isinstance(img, str):\n",
        "      return img\n",
        "    ret, buf = cv2.imencode('.png', img)\n",
        "    img_url = 'data:image/png;base64,'+b64encode(buf.tostring()).decode()\n",
        "    return img_url"
      ],
      "execution_count": 0,
      "outputs": []
    },
    {
      "cell_type": "code",
      "metadata": {
        "id": "Cyb4giRCWSPK",
        "colab_type": "code",
        "outputId": "ed2b7e89-c48a-408c-dcaf-68fe421c319d",
        "colab": {
          "base_uri": "https://localhost:8080/",
          "height": 85
        }
      },
      "source": [
        "import json\n",
        "img1 = ImageView()\n",
        "div1 = TextView('div1')"
      ],
      "execution_count": 0,
      "outputs": [
        {
          "output_type": "display_data",
          "data": {
            "application/javascript": [
              "\n",
              "      function stringifyEvent(e) {\n",
              "        if(e.type.indexOf('mouse') != -1 || e.type.indexOf('click') != -1) {\n",
              "          return JSON.stringify({ 'type':e.type,'isTrusted':e.isTrusted,'button':e.button,'buttons':e.buttons,'x':e.x,'y':e.y,'clientX':e.clientX,'clientY':e.clientY,'offsetX':e.offsetX,'offsetY':e.offsetY,'pageX':e.pageX,'pageY':e.pageY,'screenX':e.screenX,'screenY':e.screenY,'movementX':e.movementX,'movementY':e.movementY,'relatedTarget':e.relatedTarget,'altKey':e.altKey,'ctrlKey':e.ctrlKey,'metaKey':e.metaKey,'shiftKey':e.shiftKey }); \n",
              "        }\n",
              "        else if(e.type.indexOf('key') != -1) {\n",
              "          return JSON.stringify({ 'type':e.type,'isTrusted':e.isTrusted,'key':e.key,'keyCode':e.keyCode,'code':e.code,'altKey':e.altKey,'ctrlKey':e.ctrlKey,'metaKey':e.metaKey,'shiftKey':e.shiftKey,'isComposing':e.isComposing,'location':e.location,'repeat':e.repeat });\n",
              "        }\n",
              "        else {\n",
              "          return JSON.stringify({ 'type':e.type,'isTrusted':e.isTrusted });\n",
              "        }\n",
              "      }\n",
              "\n",
              "      const listenerChannel = new BroadcastChannel('7f9e34e42978.event');\n",
              "      listenerChannel.onmessage = (msg) => {\n",
              "        var elem = document.getElementById('7f9e34e42978');\n",
              "        var listener = (e) => { google.colab.kernel.invokeFunction(msg.data[2], [stringifyEvent(e)], {}); }\n",
              "        if(msg.data[0] == 'add') {\n",
              "          elem.addEventListener(msg.data[1], listener);\n",
              "        }\n",
              "        else if(msg.data[0] == 'remove') {\n",
              "          elem.removeEventListener(msg.data[1], listener);          \n",
              "        }\n",
              "      };\n",
              "    "
            ],
            "text/plain": [
              "<IPython.core.display.Javascript object>"
            ]
          },
          "metadata": {
            "tags": []
          }
        },
        {
          "output_type": "display_data",
          "data": {
            "application/javascript": [
              "\n",
              "      const elem = document.createElement('img');\n",
              "      elem.id = '7f9e34e42978';\n",
              "      document.body.appendChild(elem);\n",
              "\n",
              "      const listenerChannel = new BroadcastChannel('7f9e34e42978');\n",
              "      listenerChannel.onmessage = (msg) => {\n",
              "        elem.src = msg.data;\n",
              "      };\n",
              "    "
            ],
            "text/plain": [
              "<IPython.core.display.Javascript object>"
            ]
          },
          "metadata": {
            "tags": []
          }
        },
        {
          "output_type": "display_data",
          "data": {
            "application/javascript": [
              "\n",
              "      function stringifyEvent(e) {\n",
              "        if(e.type.indexOf('mouse') != -1 || e.type.indexOf('click') != -1) {\n",
              "          return JSON.stringify({ 'type':e.type,'isTrusted':e.isTrusted,'button':e.button,'buttons':e.buttons,'x':e.x,'y':e.y,'clientX':e.clientX,'clientY':e.clientY,'offsetX':e.offsetX,'offsetY':e.offsetY,'pageX':e.pageX,'pageY':e.pageY,'screenX':e.screenX,'screenY':e.screenY,'movementX':e.movementX,'movementY':e.movementY,'relatedTarget':e.relatedTarget,'altKey':e.altKey,'ctrlKey':e.ctrlKey,'metaKey':e.metaKey,'shiftKey':e.shiftKey }); \n",
              "        }\n",
              "        else if(e.type.indexOf('key') != -1) {\n",
              "          return JSON.stringify({ 'type':e.type,'isTrusted':e.isTrusted,'key':e.key,'keyCode':e.keyCode,'code':e.code,'altKey':e.altKey,'ctrlKey':e.ctrlKey,'metaKey':e.metaKey,'shiftKey':e.shiftKey,'isComposing':e.isComposing,'location':e.location,'repeat':e.repeat });\n",
              "        }\n",
              "        else {\n",
              "          return JSON.stringify({ 'type':e.type,'isTrusted':e.isTrusted });\n",
              "        }\n",
              "      }\n",
              "\n",
              "      const listenerChannel = new BroadcastChannel('7f9e34e42ac8.event');\n",
              "      listenerChannel.onmessage = (msg) => {\n",
              "        var elem = document.getElementById('7f9e34e42ac8');\n",
              "        var listener = (e) => { google.colab.kernel.invokeFunction(msg.data[2], [stringifyEvent(e)], {}); }\n",
              "        if(msg.data[0] == 'add') {\n",
              "          elem.addEventListener(msg.data[1], listener);\n",
              "        }\n",
              "        else if(msg.data[0] == 'remove') {\n",
              "          elem.removeEventListener(msg.data[1], listener);          \n",
              "        }\n",
              "      };\n",
              "    "
            ],
            "text/plain": [
              "<IPython.core.display.Javascript object>"
            ]
          },
          "metadata": {
            "tags": []
          }
        },
        {
          "output_type": "display_data",
          "data": {
            "application/javascript": [
              "\n",
              "      const elem = document.createElement('input');\n",
              "      elem.id = '7f9e34e42ac8';\n",
              "      document.body.appendChild(elem);\n",
              "\n",
              "      const listenerChannel = new BroadcastChannel('7f9e34e42ac8');\n",
              "      listenerChannel.onmessage = (msg) => {\n",
              "        elem.value = msg.data;\n",
              "      };\n",
              "    \n",
              "          elem.type = 'text';\n",
              "        \n",
              "          elem.readOnly = true;\n",
              "        "
            ],
            "text/plain": [
              "<IPython.core.display.Javascript object>"
            ]
          },
          "metadata": {
            "tags": []
          }
        },
        {
          "output_type": "display_data",
          "data": {
            "application/javascript": [
              "\n",
              "      const senderChannel = new BroadcastChannel('7f9e34e42ac8');\n",
              "      senderChannel.postMessage('div1');\n",
              "    "
            ],
            "text/plain": [
              "<IPython.core.display.Javascript object>"
            ]
          },
          "metadata": {
            "tags": []
          }
        }
      ]
    },
    {
      "cell_type": "code",
      "metadata": {
        "id": "o2fFJywyWWOR",
        "colab_type": "code",
        "outputId": "376d4f76-9c68-4e9f-db44-52cfc34dec29",
        "colab": {
          "base_uri": "https://localhost:8080/",
          "height": 85
        }
      },
      "source": [
        "div2 = TextView('div2')\n",
        "img2 = ImageView()"
      ],
      "execution_count": 0,
      "outputs": [
        {
          "output_type": "display_data",
          "data": {
            "application/javascript": [
              "\n",
              "      function stringifyEvent(e) {\n",
              "        if(e.type.indexOf('mouse') != -1 || e.type.indexOf('click') != -1) {\n",
              "          return JSON.stringify({ 'type':e.type,'isTrusted':e.isTrusted,'button':e.button,'buttons':e.buttons,'x':e.x,'y':e.y,'clientX':e.clientX,'clientY':e.clientY,'offsetX':e.offsetX,'offsetY':e.offsetY,'pageX':e.pageX,'pageY':e.pageY,'screenX':e.screenX,'screenY':e.screenY,'movementX':e.movementX,'movementY':e.movementY,'relatedTarget':e.relatedTarget,'altKey':e.altKey,'ctrlKey':e.ctrlKey,'metaKey':e.metaKey,'shiftKey':e.shiftKey }); \n",
              "        }\n",
              "        else if(e.type.indexOf('key') != -1) {\n",
              "          return JSON.stringify({ 'type':e.type,'isTrusted':e.isTrusted,'key':e.key,'keyCode':e.keyCode,'code':e.code,'altKey':e.altKey,'ctrlKey':e.ctrlKey,'metaKey':e.metaKey,'shiftKey':e.shiftKey,'isComposing':e.isComposing,'location':e.location,'repeat':e.repeat });\n",
              "        }\n",
              "        else {\n",
              "          return JSON.stringify({ 'type':e.type,'isTrusted':e.isTrusted });\n",
              "        }\n",
              "      }\n",
              "\n",
              "      const listenerChannel = new BroadcastChannel('7f9e34e42ba8.event');\n",
              "      listenerChannel.onmessage = (msg) => {\n",
              "        var elem = document.getElementById('7f9e34e42ba8');\n",
              "        var listener = (e) => { google.colab.kernel.invokeFunction(msg.data[2], [stringifyEvent(e)], {}); }\n",
              "        if(msg.data[0] == 'add') {\n",
              "          elem.addEventListener(msg.data[1], listener);\n",
              "        }\n",
              "        else if(msg.data[0] == 'remove') {\n",
              "          elem.removeEventListener(msg.data[1], listener);          \n",
              "        }\n",
              "      };\n",
              "    "
            ],
            "text/plain": [
              "<IPython.core.display.Javascript object>"
            ]
          },
          "metadata": {
            "tags": []
          }
        },
        {
          "output_type": "display_data",
          "data": {
            "application/javascript": [
              "\n",
              "      const elem = document.createElement('input');\n",
              "      elem.id = '7f9e34e42ba8';\n",
              "      document.body.appendChild(elem);\n",
              "\n",
              "      const listenerChannel = new BroadcastChannel('7f9e34e42ba8');\n",
              "      listenerChannel.onmessage = (msg) => {\n",
              "        elem.value = msg.data;\n",
              "      };\n",
              "    \n",
              "          elem.type = 'text';\n",
              "        \n",
              "          elem.readOnly = true;\n",
              "        "
            ],
            "text/plain": [
              "<IPython.core.display.Javascript object>"
            ]
          },
          "metadata": {
            "tags": []
          }
        },
        {
          "output_type": "display_data",
          "data": {
            "application/javascript": [
              "\n",
              "      const senderChannel = new BroadcastChannel('7f9e34e42ba8');\n",
              "      senderChannel.postMessage('div2');\n",
              "    "
            ],
            "text/plain": [
              "<IPython.core.display.Javascript object>"
            ]
          },
          "metadata": {
            "tags": []
          }
        },
        {
          "output_type": "display_data",
          "data": {
            "application/javascript": [
              "\n",
              "      function stringifyEvent(e) {\n",
              "        if(e.type.indexOf('mouse') != -1 || e.type.indexOf('click') != -1) {\n",
              "          return JSON.stringify({ 'type':e.type,'isTrusted':e.isTrusted,'button':e.button,'buttons':e.buttons,'x':e.x,'y':e.y,'clientX':e.clientX,'clientY':e.clientY,'offsetX':e.offsetX,'offsetY':e.offsetY,'pageX':e.pageX,'pageY':e.pageY,'screenX':e.screenX,'screenY':e.screenY,'movementX':e.movementX,'movementY':e.movementY,'relatedTarget':e.relatedTarget,'altKey':e.altKey,'ctrlKey':e.ctrlKey,'metaKey':e.metaKey,'shiftKey':e.shiftKey }); \n",
              "        }\n",
              "        else if(e.type.indexOf('key') != -1) {\n",
              "          return JSON.stringify({ 'type':e.type,'isTrusted':e.isTrusted,'key':e.key,'keyCode':e.keyCode,'code':e.code,'altKey':e.altKey,'ctrlKey':e.ctrlKey,'metaKey':e.metaKey,'shiftKey':e.shiftKey,'isComposing':e.isComposing,'location':e.location,'repeat':e.repeat });\n",
              "        }\n",
              "        else {\n",
              "          return JSON.stringify({ 'type':e.type,'isTrusted':e.isTrusted });\n",
              "        }\n",
              "      }\n",
              "\n",
              "      const listenerChannel = new BroadcastChannel('7f9e34e42f98.event');\n",
              "      listenerChannel.onmessage = (msg) => {\n",
              "        var elem = document.getElementById('7f9e34e42f98');\n",
              "        var listener = (e) => { google.colab.kernel.invokeFunction(msg.data[2], [stringifyEvent(e)], {}); }\n",
              "        if(msg.data[0] == 'add') {\n",
              "          elem.addEventListener(msg.data[1], listener);\n",
              "        }\n",
              "        else if(msg.data[0] == 'remove') {\n",
              "          elem.removeEventListener(msg.data[1], listener);          \n",
              "        }\n",
              "      };\n",
              "    "
            ],
            "text/plain": [
              "<IPython.core.display.Javascript object>"
            ]
          },
          "metadata": {
            "tags": []
          }
        },
        {
          "output_type": "display_data",
          "data": {
            "application/javascript": [
              "\n",
              "      const elem = document.createElement('img');\n",
              "      elem.id = '7f9e34e42f98';\n",
              "      document.body.appendChild(elem);\n",
              "\n",
              "      const listenerChannel = new BroadcastChannel('7f9e34e42f98');\n",
              "      listenerChannel.onmessage = (msg) => {\n",
              "        elem.src = msg.data;\n",
              "      };\n",
              "    "
            ],
            "text/plain": [
              "<IPython.core.display.Javascript object>"
            ]
          },
          "metadata": {
            "tags": []
          }
        }
      ]
    },
    {
      "cell_type": "code",
      "metadata": {
        "id": "xhvxBLa878ZD",
        "colab_type": "code",
        "outputId": "ea2f44c8-3a18-4e89-d2f3-b970429d833d",
        "colab": {
          "base_uri": "https://localhost:8080/",
          "height": 277
        }
      },
      "source": [
        "canvas1 = Canvas(256,256)\n",
        "\n",
        "def onclick(e):\n",
        "  #print(e)\n",
        "  img = np.random.randint(0, 255, size=[16,16,3], dtype=np.uint8)\n",
        "  canvas1.drawImage(img, e.offsetX, e.offsetY)\n",
        "canvas1.add_event_listener('click', onclick)\n",
        "\n",
        "# client-only version\n",
        "#js = '''\n",
        "#  var elem = document.getElementById('{0}');\n",
        "#  elem.addEventListener('click', (e)=>{{\n",
        "#    const senderChannel = new BroadcastChannel('{0}');\n",
        "#    senderChannel.postMessage(['clearRect', e.offsetX, e.offsetY, 10, 10]);\n",
        "#  }});\n",
        "#'''.format(canvas1._id)\n",
        "#display(IPython.display.Javascript(js))"
      ],
      "execution_count": 0,
      "outputs": [
        {
          "output_type": "display_data",
          "data": {
            "application/javascript": [
              "\n",
              "      function stringifyEvent(e) {\n",
              "        if(e.type.indexOf('mouse') != -1 || e.type.indexOf('click') != -1) {\n",
              "          return JSON.stringify({ 'type':e.type,'isTrusted':e.isTrusted,'button':e.button,'buttons':e.buttons,'x':e.x,'y':e.y,'clientX':e.clientX,'clientY':e.clientY,'offsetX':e.offsetX,'offsetY':e.offsetY,'pageX':e.pageX,'pageY':e.pageY,'screenX':e.screenX,'screenY':e.screenY,'movementX':e.movementX,'movementY':e.movementY,'relatedTarget':e.relatedTarget,'altKey':e.altKey,'ctrlKey':e.ctrlKey,'metaKey':e.metaKey,'shiftKey':e.shiftKey }); \n",
              "        }\n",
              "        else if(e.type.indexOf('key') != -1) {\n",
              "          return JSON.stringify({ 'type':e.type,'isTrusted':e.isTrusted,'key':e.key,'keyCode':e.keyCode,'code':e.code,'altKey':e.altKey,'ctrlKey':e.ctrlKey,'metaKey':e.metaKey,'shiftKey':e.shiftKey,'isComposing':e.isComposing,'location':e.location,'repeat':e.repeat });\n",
              "        }\n",
              "        else {\n",
              "          return JSON.stringify({ 'type':e.type,'isTrusted':e.isTrusted });\n",
              "        }\n",
              "      }\n",
              "\n",
              "      const listenerChannel = new BroadcastChannel('7fce952541d0.event');\n",
              "      listenerChannel.onmessage = (msg) => {\n",
              "        var elem = document.getElementById('7fce952541d0');\n",
              "        var listener = (e) => { google.colab.kernel.invokeFunction(msg.data[2], [stringifyEvent(e)], {}); }\n",
              "        if(msg.data[0] == 'add') {\n",
              "          elem.addEventListener(msg.data[1], listener);\n",
              "        }\n",
              "        else if(msg.data[0] == 'remove') {\n",
              "          elem.removeEventListener(msg.data[1], listener);          \n",
              "        }\n",
              "      };\n",
              "    "
            ],
            "text/plain": [
              "<IPython.core.display.Javascript object>"
            ]
          },
          "metadata": {
            "tags": []
          }
        },
        {
          "output_type": "display_data",
          "data": {
            "application/javascript": [
              "\n",
              "      const listenerChannel = new BroadcastChannel('7fce952541d0');\n",
              "      const canvas = document.createElement('canvas');\n",
              "      canvas.id = '7fce952541d0';\n",
              "      canvas.width = 256;\n",
              "      canvas.height = 256;\n",
              "      document.body.appendChild(canvas);\n",
              "      const c = canvas.getContext('2d');\n",
              "\n",
              "      listenerChannel.onmessage = (msg) => {\n",
              "        const cmd = msg.data[0];\n",
              "        const args = msg.data.slice(1);\n",
              "        var result;\n",
              "        switch(cmd) {\n",
              "          case 'drawImage':\n",
              "            const img = new Image();\n",
              "            img.onload = function() { c.drawImage.apply(c, [img].concat(args.slice(1))); };\n",
              "            img.src = args[0];\n",
              "            break;\n",
              "          case 'measureText':\n",
              "            result = {'width': c.measureText(args[0]).width};\n",
              "            break;\n",
              "          case 'toDataURL':\n",
              "            result = canvas.toDataURL();\n",
              "            break;\n",
              "          case 'set':\n",
              "            c[args[0]] = args[1];\n",
              "            break;\n",
              "          case 'get':\n",
              "            result = c[args[0]];\n",
              "            break;\n",
              "          default:\n",
              "            result = c[cmd].apply(c, args);\n",
              "            break;\n",
              "        }\n",
              "        if(result !== undefined)\n",
              "          listenerChannel.postMessage(JSON.stringify(result));\n",
              "      };\n",
              "    "
            ],
            "text/plain": [
              "<IPython.core.display.Javascript object>"
            ]
          },
          "metadata": {
            "tags": []
          }
        },
        {
          "output_type": "display_data",
          "data": {
            "application/javascript": [
              "\n",
              "      const senderChannel = new BroadcastChannel('7fce952541d0.event');\n",
              "      senderChannel.postMessage(['add', 'click', 'notebook.obj7fce952541d0']);\n",
              "    "
            ],
            "text/plain": [
              "<IPython.core.display.Javascript object>"
            ]
          },
          "metadata": {
            "tags": []
          }
        }
      ]
    },
    {
      "cell_type": "code",
      "metadata": {
        "id": "C887zjovrAVP",
        "colab_type": "code",
        "outputId": "3e102136-d081-4df9-af28-f4df1ac5ce6f",
        "colab": {
          "base_uri": "https://localhost:8080/",
          "height": 323
        }
      },
      "source": [
        "import numpy as np\n",
        "\n",
        "canvas1.fillRect(0,0,20,20)\n",
        "canvas1.font = '48px serif'\n",
        "#print(canvas1.setLineDash([5,10]))\n",
        "canvas1.lineWidth = 2\n",
        "canvas1.strokeStyle = '#0000aa'\n",
        "canvas1.strokeText('abc', 80, 50)\n",
        "canvas1.beginPath()\n",
        "canvas1.moveTo(50, 50)\n",
        "canvas1.lineTo(100, 100)\n",
        "canvas1.lineTo(100, 150)\n",
        "canvas1.lineTo(150, 150)\n",
        "canvas1.lineTo(150, 200)\n",
        "canvas1.lineTo(200, 200)\n",
        "canvas1.stroke()\n",
        "\n",
        "import matplotlib.pyplot as plt\n",
        "img = canvas1.to_image()\n",
        "plt.imshow(img)"
      ],
      "execution_count": 0,
      "outputs": [
        {
          "output_type": "display_data",
          "data": {
            "application/javascript": [
              "\n",
              "        const senderChannel = new BroadcastChannel('7f9e34e37ba8');\n",
              "        senderChannel.postMessage(['fillRect', 0, 0, 20, 20]);\n",
              "      "
            ],
            "text/plain": [
              "<IPython.core.display.Javascript object>"
            ]
          },
          "metadata": {
            "tags": []
          }
        },
        {
          "output_type": "display_data",
          "data": {
            "application/javascript": [
              "\n",
              "        const senderChannel = new BroadcastChannel('7f9e34e37ba8');\n",
              "        senderChannel.postMessage(['set', 'font', '48px serif']);\n",
              "      "
            ],
            "text/plain": [
              "<IPython.core.display.Javascript object>"
            ]
          },
          "metadata": {
            "tags": []
          }
        },
        {
          "output_type": "display_data",
          "data": {
            "application/javascript": [
              "\n",
              "        const senderChannel = new BroadcastChannel('7f9e34e37ba8');\n",
              "        senderChannel.postMessage(['set', 'lineWidth', 2]);\n",
              "      "
            ],
            "text/plain": [
              "<IPython.core.display.Javascript object>"
            ]
          },
          "metadata": {
            "tags": []
          }
        },
        {
          "output_type": "display_data",
          "data": {
            "application/javascript": [
              "\n",
              "        const senderChannel = new BroadcastChannel('7f9e34e37ba8');\n",
              "        senderChannel.postMessage(['set', 'strokeStyle', '#0000aa']);\n",
              "      "
            ],
            "text/plain": [
              "<IPython.core.display.Javascript object>"
            ]
          },
          "metadata": {
            "tags": []
          }
        },
        {
          "output_type": "display_data",
          "data": {
            "application/javascript": [
              "\n",
              "        const senderChannel = new BroadcastChannel('7f9e34e37ba8');\n",
              "        senderChannel.postMessage(['strokeText', 'abc', 80, 50]);\n",
              "      "
            ],
            "text/plain": [
              "<IPython.core.display.Javascript object>"
            ]
          },
          "metadata": {
            "tags": []
          }
        },
        {
          "output_type": "display_data",
          "data": {
            "application/javascript": [
              "\n",
              "        const senderChannel = new BroadcastChannel('7f9e34e37ba8');\n",
              "        senderChannel.postMessage(['beginPath']);\n",
              "      "
            ],
            "text/plain": [
              "<IPython.core.display.Javascript object>"
            ]
          },
          "metadata": {
            "tags": []
          }
        },
        {
          "output_type": "display_data",
          "data": {
            "application/javascript": [
              "\n",
              "        const senderChannel = new BroadcastChannel('7f9e34e37ba8');\n",
              "        senderChannel.postMessage(['moveTo', 50, 50]);\n",
              "      "
            ],
            "text/plain": [
              "<IPython.core.display.Javascript object>"
            ]
          },
          "metadata": {
            "tags": []
          }
        },
        {
          "output_type": "display_data",
          "data": {
            "application/javascript": [
              "\n",
              "        const senderChannel = new BroadcastChannel('7f9e34e37ba8');\n",
              "        senderChannel.postMessage(['lineTo', 100, 100]);\n",
              "      "
            ],
            "text/plain": [
              "<IPython.core.display.Javascript object>"
            ]
          },
          "metadata": {
            "tags": []
          }
        },
        {
          "output_type": "display_data",
          "data": {
            "application/javascript": [
              "\n",
              "        const senderChannel = new BroadcastChannel('7f9e34e37ba8');\n",
              "        senderChannel.postMessage(['lineTo', 100, 150]);\n",
              "      "
            ],
            "text/plain": [
              "<IPython.core.display.Javascript object>"
            ]
          },
          "metadata": {
            "tags": []
          }
        },
        {
          "output_type": "display_data",
          "data": {
            "application/javascript": [
              "\n",
              "        const senderChannel = new BroadcastChannel('7f9e34e37ba8');\n",
              "        senderChannel.postMessage(['lineTo', 150, 150]);\n",
              "      "
            ],
            "text/plain": [
              "<IPython.core.display.Javascript object>"
            ]
          },
          "metadata": {
            "tags": []
          }
        },
        {
          "output_type": "display_data",
          "data": {
            "application/javascript": [
              "\n",
              "        const senderChannel = new BroadcastChannel('7f9e34e37ba8');\n",
              "        senderChannel.postMessage(['lineTo', 150, 200]);\n",
              "      "
            ],
            "text/plain": [
              "<IPython.core.display.Javascript object>"
            ]
          },
          "metadata": {
            "tags": []
          }
        },
        {
          "output_type": "display_data",
          "data": {
            "application/javascript": [
              "\n",
              "        const senderChannel = new BroadcastChannel('7f9e34e37ba8');\n",
              "        senderChannel.postMessage(['lineTo', 200, 200]);\n",
              "      "
            ],
            "text/plain": [
              "<IPython.core.display.Javascript object>"
            ]
          },
          "metadata": {
            "tags": []
          }
        },
        {
          "output_type": "display_data",
          "data": {
            "application/javascript": [
              "\n",
              "        const senderChannel = new BroadcastChannel('7f9e34e37ba8');\n",
              "        senderChannel.postMessage(['stroke']);\n",
              "      "
            ],
            "text/plain": [
              "<IPython.core.display.Javascript object>"
            ]
          },
          "metadata": {
            "tags": []
          }
        },
        {
          "output_type": "stream",
          "text": [
            "/usr/local/lib/python3.6/dist-packages/ipykernel_launcher.py:166: DeprecationWarning: The binary mode of fromstring is deprecated, as it behaves surprisingly on unicode inputs. Use frombuffer instead\n"
          ],
          "name": "stderr"
        },
        {
          "output_type": "execute_result",
          "data": {
            "text/plain": [
              "<matplotlib.image.AxesImage at 0x7f9e2bd9d5c0>"
            ]
          },
          "metadata": {
            "tags": []
          },
          "execution_count": 6
        },
        {
          "output_type": "display_data",
          "data": {
            "image/png": "[encoded data removed]",
            "text/plain": [
              "<Figure size 432x288 with 1 Axes>"
            ]
          },
          "metadata": {
            "tags": [],
            "needs_background": "light"
          }
        }
      ]
    },
    {
      "cell_type": "code",
      "metadata": {
        "id": "DpDSNTd6W5Ip",
        "colab_type": "code",
        "outputId": "d909edac-297c-41c1-a1cb-30cf3e159011",
        "colab": {
          "base_uri": "https://localhost:8080/",
          "height": 17
        }
      },
      "source": [
        "import numpy as np\n",
        "import time\n",
        "\n",
        "def run():\n",
        "  for i in range(4):\n",
        "    img = np.random.randint(0, 255, size=[64,64,3], dtype=np.uint8)\n",
        "    if i % 2:\n",
        "      img1.show(img)\n",
        "      div1.show(str(i))\n",
        "    else:\n",
        "      img2.show(img)\n",
        "      div2.show(str(i))\n",
        "    time.sleep(1)\n",
        "\n",
        "run()\n",
        "#import threading\n",
        "#threading.Thread(target=run).start()"
      ],
      "execution_count": 0,
      "outputs": [
        {
          "output_type": "display_data",
          "data": {
            "application/javascript": [
              "\n",
              "      const senderChannel = new BroadcastChannel('7f9e34e42f98');\n",
              "      senderChannel.postMessage('data:image/png;base64,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');\n",
              "    "
            ],
            "text/plain": [
              "<IPython.core.display.Javascript object>"
            ]
          },
          "metadata": {
            "tags": []
          }
        },
        {
          "output_type": "display_data",
          "data": {
            "application/javascript": [
              "\n",
              "      const senderChannel = new BroadcastChannel('7f9e34e42ba8');\n",
              "      senderChannel.postMessage('0');\n",
              "    "
            ],
            "text/plain": [
              "<IPython.core.display.Javascript object>"
            ]
          },
          "metadata": {
            "tags": []
          }
        },
        {
          "output_type": "display_data",
          "data": {
            "application/javascript": [
              "\n",
              "      const senderChannel = new BroadcastChannel('7f9e34e42978');\n",
              "      senderChannel.postMessage('data:image/png;base64,iVBORw0KGgoAAAANSUhEUgAAAEAAAABACAIAAAAlC+aJAAAgAElEQVRoBQFAML/PAQSnz4U7dxySFKdC1Fk8QqOZV/eEZDvu5onik++oq3hglBRtV0KD+6AHhZYFpLvXZOmhhX+6CyQVCLo1W1c49jhhMHZwEmqAmBpgf/iWjd6po/S90zZMh/Dow0zTsx//2/GE1U57+bnNOFdALC6YiMxa5KTHaibmWWKByLZvc6pNW6dh949zhU+777e10yyjym95mzdb+CBC7tUJ00LTXCHveG4yhB5kgfo/8oybFWUX2oy08/sxhPBoZx8NBVACYgEHq6bG132Gmgdz6ZT443L1gYWTRDe/XJlxKFDCISSqJY9NA+kU6lv68TRKpfdrr8JvrtIdirAC4GWG4tDLlg8Yes6a4wASkTBK4P5GGc4kazP23JzYcg5hWV1rhgN88skj3BdvA9yP4CT1Op37qgAqC6fz5pNw4gKo2QpPxYB6kS12CCsUKRMIX/nOuMjInyB/FLRvQbIGQKbc6TbhB9/NGHDoHS/KMzoZx1Ue8YltTFgi7Q/a89atVfbO9TXBGSABoVOge02OXq6vaqZolihLRsHWXpPNORiGVohugWyTJmnfHlhGqacROzXtDu2SuVf2H14WkhbgDP+goeawbmMe9RTHB372+RryxIklh/3dbuNbUN49vAeWa0r8Y0EiuY1LBmg8kSIIF1bvSDtzFaUtVUdAT113l8w0ZdgSN/QVaV+sQjEHWiXV0evRcepySWc1ZORypNBgm/OF2yS5nwNr2JGf0ZoKQi1fy1UqQ5qtg2UzEFuOzWV314t1Ow9dxEuzAXachhntqahrffLxLZTx27rUrPgiEzjEoB1jZ1BwzazwitRQ+jkCnNFnWEV4sBsMwJZDcFKzVE8RInRf0YELU/87p3t8hQgYg+LPcuW5Qop6KEGa9vjZ+CPNzew26plhfxzL9n8XQa61uhvWFVUnfhF8eMQw/amPJkAvB0+taqYqIbkRB8SYe4AjiAIM422CraTihYqj/u5xL5JLpRUVK8Ngj6JfnMrTBithWOAQyQpcR/3xEI+dqcvvraPJ1hXzqAH3XyKETl0NlBVL9XP7jZpJi8WVa0hSCfiypejmn2IRdt0M1SLAh1I9K6vOZ2YxjhQZ2/+3SZtcmCeL/HLR/TMpWdBQ/V8bc29slmEL4B3BKSCYIVR9FL+eGm3hH5V+E5CeUbxx0V+sA8PVFW53rqJQZZGFsyrZBblhD39Dh6KBE0RmWqxtX7iX/Z1GElV5LuOcVpt3suxn0v3CYWfpy87ERbJyD/SBRav/G5eRf6qs5Mu3XO6KzeEzIWA23N/e1hgBqVSl673oSHr3ykwUXBJesFer87Gs1zNDLYt6S6YdWWFq97iXwpV3rjEzL4QAui6/SeEx6QB6mdx3HRTTp4/UffoYrA74YXvjWHRKxLlyhXS46czbT+5EYwU1oZPS6e7IkFfnURQ+/bUY8nxAVyUjNcCvLDlafow1nFAUqZca6mzZ6/r17fwPF04UA79guJQbKNDvzVJXpkq5XoQmua/go5tpuII8ByZ9FzWLGKoDVzbitjDuIAXVEaYrzXrLbrZgASNbBGF8Qzsijs1JiTmOPXzOsvMpLJJrnwKxA7qkL3sq0bGZ/MAiiw8BvneuZ/Q6ZCWBR26GdgzB/gP/8bo6T356E6u8OccYwLwcSWQVSAbqvWvO1k86nC43izBrtfgqGZ9CoS42/JnzJJmgLmUj02qRy7tm79sVCjpD8n/W/WCr0LvsoswAZvaD0ILwwcX+zuJG8DO4KCCwxqxVsODA41JXKtoBhhWy2BgxGZW2q/SYq8TRJtGce2MCC/1FINlJnQH1R4+2O83ryjSqflq2n14UvZFBvLlhdktOfxHJV2OT8HtmP0+c7izZGfImCuXqSH9Icpwzm0EA2hfyjP8PgnhSKBEn7nAEwfE3RKZymqWIl2cqIJdCW7a0iUTO7dJ0PbcK+iGxFhhmJjiKS14ONrLEPFSTpoxTC5r1rcsvdXWSq+NSpu6c7SnZFfMw3N2CWkEn20lFEUMXb0Bpr1LT/AR12C+CrDuQNRHBvKpghAN2DhgzZfzoRw8W/nsFbdm4ZT4Bx+iduDiTdKkyeAhm5Ds4yWI4SwFh5oh9np9svJVl6UuC05LYWeX5/WBqenVAlPPdjgolf5DaC3CffTz1xsPzSqqi+UPZUNTm3ROdt+dwRTEvAjb/qAJNigtmkdV8QxdOz5LzhKr/NCxNqXpTcb30VTAyvxO1q8j9sw8t0AKdsQ3W3X+flCtwKGHxAt+qjg2GbiTmQcJ6y8h/R+ThyiFcl+vM+mVRMxsb6srqVSntZRwNrL/WXYzPjvnvqfD7JHlvAZZRHZd1DWam0GkvmETjTQG3uSbJqcmvgRrDY1O5iz7A1MU7VvaxsTjpPPuqermmj947qJV28LP9REqlHFLXCiLLn1WJtpiWEqKLysJevrCRBfLKKNh3sEWdYKLafQE7ctbJMXZmXtbZkbZMp/D1da6nC1yK5mURR6kjKEIxVrkYKK7LMKa5hutWAsom90HktvYIXDy/9BLbhhQgpVBUbod84OgszLPY9O1dnP3hsayzreXpvHFfOv8nhEQXYvvoWAFp78SF04eid8gGET20m31F8UbtWMGFV6DsbYSnNH5XezxLjYbWfn1OedFHlAqjKBopjFBTmmNkNSQGmjmJvuCzvfHHMgJxu8Pmvpk09CwN/9bswPvI+L8p+7E4m9pWzdC+agmXtM8N+SmUIx9tKGNZdYN8vVR80EoiJeslkIFoM5OwuXRMyIwLbaCxegmTOglaz83h5Jd2jXaw9e57HAGaIy70WaBWyRpQHNXwWChMkDFYIWj4KcHcMkPUi7x4ku8BJ714fIgWew4MToRKcrJ1l54XhJcmTLG+pPRQ0OrCraefiy0SJFUmF3fGzf2lEVLQRwNVRe4oI+WedBef1GIXhjm+T5BgtTZ5MCHds3V+hGeJTOSJeCQE05h+/Nte6RoSE/SHQq6lQblHh1+jw/tcORD0ktHrluQqem/HgC9UPnkmzrxxxSdCZjy3JeVgsDEd1h/Lpz/UBOb6XROgCzZ+N7yzz9zwK+k4tUBCcspponwEBHk4/DfD0Fv7Lx3zVFvbAcTjylsEX6+XqHuoitNGgsklP0OUgAmrP4lhlVdQ01IyBKPXo9gUH17lzG7Zq+tPHpekor8002efkFIpqGMv6GogO4UZqFzktvQENR6iwDE3jgZ+qDrgpaCLE6xiUYAkfOPDf02uHpLR5eaadvdEUod6aQd5tIsfE22ndxsBUV+n4OEUY+C7LfL+VtW1iGG6clwxTMz0POotrpUKPXtVI+BtYnWLtJtbwvBW7PUI5RStkDpJi14hZ88M827CWAlF2wE6uEFTtI9KadLN3fz15XKWnBtcMtWt/IqPzWOFxlq8rA56hsBdCrGs+EP/nULHNFRIfatrg10DANKNtuisMLfoVtEuiRem3HvK6vwZYyJDww+k6/m3jSW8A9dgfVIxiiPwVqkbNfW6ZM7FtaLL6xH3nl+71yhwPeQXxOwQSrN81L26B6edR9HOujvimta0c60ZnBGSLY4fjXghRndJ/ZpbA4EA4h8UfLkWR5NvG+fp9A3uQ+J5jBX0pXdZQiQworoBFv08xl9hR5qtcXNbBNLB8RfVsH5ki5CpaHZxzhCgcs8tq7rv6TQ0rv6IqXcpHq1ZSbEmeOYrTgfUFkLLdGubCpNrI/C+RkQLheeYRmhaS4FLQv3xHOHmBISrEA29XuewM5oCJWqsnWUFNdKQsfsWeEaAAuBf30XGOg0xFeJIBLfDPdb0o6e5TG4cBQ2/AfgbNGG6Kky2GLQ3kSBcBsgowOxclNLp/NyyOp+GjXUptQmM3OLdBwVDt2BEoUgE+3XGARPwtirkB8fX21J3wYlO5afqFT6ytN0tiPmnr7klMk2h4X2ZsrfGLljYWGj9aqAH80Z7xwSRhfzE9R9xyhS7ri9eSHVRT+wQgN/QVFFa8nDKEyHl3/tFrS0ux8LjmdDu+rtTY9BtxwWaZO8sd6t1Hbe7VJYg/t+eiaIRVcS2EwN3Wmla+rEIpCainPyEOvEaXXIPZD6UWfR/TSyvQOHskZ6XlwBCcaZ1mH6AQy5j+vsZR/DflbxjMYpB9VgXD7SSUAGMMZO19RqyMU3HuQq4wRCburEdLgSTNLIx8lG971dFAgwfGFU3FB4V7nJue3y5aY/AkIxPseuU46vG+zUFJWUqHwXSE1sI06iQ+hjgd7hyAI6GgZ/H2f9HCFrAsb115gfT4Eo86lQnYFtimbY4AR7eygF0r+Hu/yVvj22XaN0ykYoUPYrJ6peLK6t3okhnKJNjKoehcQBeeoWCr1OMDOkDjEjsvzp3PeOnoSRBcPK6r0ndArk/wBrflQwS0Bea+9ABPstWQRK0xp0+xoAMisqMMl/Vmin4ZUVE4Hjz1Ovcodhs0B/w6zVtHLQZn4R1KH0uVk6gAQS5dG72rtr0oRwTWCMZzhlItKzS6/zrVz9qX6FV9WAZpdq5zUYzQGrohsqKPkMvc3YXdOC+hiD5dpYWfn+wpX4lb5+GY9jfrWKl3PF+11XXShh7m7wJ6CH7VADs5/lGUxMHl1Bg4jbeaIW+MQwmq5YDmQNKooyWGcKVjAinv9KaFGafKmv4jhgWDnBoAXCJIp5KetqZrSnZ8ymmsf9S/yhOpZUYZluAbfzilm0NbPxdAXGvqMROZ2JdADMScNnrvlVap2Qu1twiy02zFLkvh2WZBqs3HaIztqgGkyT8hBH0PQ1THs1/JU4M/j/ojTgJmKVxD1+Na/oM//t1jvVbTFjCvQCCZ6nRilao4W2cuXTsQuk3VyslTnAQZvy1r+Mcgl52nYvqw4/UMX83xCWjj7SI9td1fDbUtZErhxwXv69t1rz40HNercOM/nGFDQGGnMHdDQ6jt1hyO9Fx4mfxPrq/UsIiW8MAKWfeO/1R2MZUeEPjoOD5HJVjoj+fJVQZSmE027WS7dBsmUZwLT7SMt8Gn3tfNdMoTf75bKzZXHtzWa2/RY+MbRHELDcGBlaGFAOOBOjT3IqgNCi5Ha20mYcjx4u931PmevRjobgGjSxZpnI/uDh6V+wQIC9xnAFRveQ2V1RUySOsFRLcn+GmZb/6EeqCZMcAjkxrVMJaReI8agzeiTlvZT5T9bTucvwB6zBOCNpxe9w3hx8UMYN/naNQipe746X5W+HYebofD8aU0LUJBW1tf28eUqJaBTwVYr8J2HoejODQEeWWKoXo+AvNrVsRt0VAh7PgBBIeSjac/CMx7nUWI2FSURTHMsm9nbgG3agoR1IPbif5/r+33IMOST2eNRPolquPEwmkWlKtQHjvqvQ5j0AQnecr3UStTGp4yRZTmmF5xF6A90V0InpfJ1qgkqtsyVNVYLVxxGv0WIeCHy9W1zmavzThzb+gAcdh7DVAlIGgMVkJWfItxjlS9jmlzK/JZCzMmrRQqzifNR4msIbqyAPDT6lcB4C/ROgqFnRrcc41SbltOsZNDYsEl+Sl8sGdfo/B3QMXlyQb7wJWs/gL+/Ssy+fKnEk3nDmjUrHaEna8ifhMVWLj7Dd5DQUJygsFEiLu1mX2dkFFbYJVSPaqZcS2ArJJiDG/6PczNm/bdAzkD28Pr6p2KrNBS73NrBWlbPWSeMp7A+3U2aEJhRsf9jtUcX08FTayIQEQVhdHQ5cLEnASf+AEfSrF2TOVr+VB9lNr0NTzAjPPPnFA1KqMl1Tnquh2F1u9H1Ys8sHcQhVnAKmOKjTPNJT7zZUzXJQ08ByIGv43OZfLwpQPXy1bCDvcG85teiD+J1pFPgezDksfTh0gwgXXsTMJeb/NyL+ktWd0qg38ysdGcZFgfSBahZ2IC9nTbK87n2EsuOA0nERfQFf44hLyYbBeNSf4ELDtjSw9GJW3rj65hBULtk2LyWV2Sj+q7tlSZGIBlTKRpmpbpy64w0Tx6LH2RUGe+GlIdOASYxWNfbMJTVxoFlfSiTLcKUM/MsIateRYOtq0RWiAsXvpVhafYiJUfx+p/bqdFtjCGsYJVla9oXxYoyQmdJL4Hb4MHcLTurUaK3qkNwyjH3433vbOmrJA6cikfVOv/IvEX88I5bGZGr197ceU7ua7Zy5q2lM1F1qCVnu24+tKHZHs+3duLLF8mqsfLV0I7zx+kDAXZTHC1hLfoJ9UEU67J+X0jG//mB80ASmjUskjmSbYx8FQWCyDqy4VomFwGXka5+NjntZ2YNFEKV6trXlCryVhaANrxC/tPLIgywW3CsFXoFFAjD8I67YYHpwya33PvCt95hOJI2yNx+Kxazb0oG6ULoJMyAY2Ue5BysCow0RcnJ4Mky+/Cdkco9yDP3kkPLpe/fynwroHnOzd1eI1KJ34y0SrfpqAOdTobYPSEIQUYi8Zq4UjnyfFmynUY9EGq14MKkuRJ86McsxeM2B8Fri4XOXr6wclCwFZz+eamFxKH0FrrnN4Lc31Z9MM6bvzu09W2wbeGThvMhJ5H9fCMhcS5cv/nT0SQMdgKeaDbXIFat30L8lCkqNDzcuQlpe9DSX5FLNt71TIi+lgC0sTgBxBHvbthORmJh3qAu8Rd6Tde77pLAAbncfNmZJGjb6wOlgFGu/eU3AvOXieD9zmALbNHdy5WkvVwMYXhCBXII2uSeeqxW6nLpI+vD8UwRTiloTVATqD3biRLRqAeolxUH1VOHSpsW9wdxsBOKDFhTmOag4hhA8hegPxSw1XD1uL6Cd/HwNC6KJ4lCYvG/T9OcsQXP8W+2s+EDYuPEWzlVg63ChlHJKt+6ooXXdHtn+xptxeNrvgWK9I53DA/TUiJKW2RgvmWnc3QN+Nfx9Paa42/asRsX3cujuDqL0iWowy111+0ia0fqGf7xlq8zU9oOKrFoQGWcvfJO0HTCa6z4PKfHyt3Shqj+22HfPrN9/kld2bwhHGTYNPAIoqM/c4wGaT3XiFru8cL19wAVpQqgbb3rmKc6W8mxwsffWxAbnOWB8aoACqfA+duISEDg/364T07v9EnT15x8Zuxrh6Z0GgYDsqccbW6cNcm9t5v9CmZ4XiGQO/ffL3DjVOrbbEoVByTMBhU0BqHgiJD+aYi4nebEorOG5zVEsQ0s/xWh6tU2+oyctLcka83gfZc0pRUjKrumkDjBhQ7HoX1J+dmWtxMqH5/o4oXBDNoaPnMg5sMdi13nqfARf21Av8LB33sENwgZGnsRemMGiQKgFiqb8tDZbvczYadXzM974iogPSUVTa0B1T1wrBp/jpAkgjZpzgICdkZQdm/hD8GhUx7m57WmynvQMymC6LX9LJp1NbARZ0dVJPerwqpwxybgGUkVdrbO9pz1ZwwXVQ8Da0ULCP4HkKcDKEptVqgwxIF2NlNiB++k9m3biUKSqwrFYbd4geY6eCQMPGuUekmPywbeTDFrVL/3WETz1jQbeaISag2qFfqPoh2ec7oBLVS9OZfzIfUP3Uoy5cbaJ9AF8BQ2bdR2E2ONCIk0oX7IKJzYKWv5BpWJ3LO+lDDaJvyIfS6fzXTyPAqUqT7PmklXZ0R3kzuMUKvSY01DgMmHrCNE20HMmmHp/tF/rs8sMDXaLh2zj4sj6itBHHabUt2PokCksJzaQhqTfaNodNCs5P2xhNHjjazintJZ8eXQvCjxA3L9/6t9d+ycdwGy9Y1IWyqxXq3g58hrBo9F3NItqDsW4zG4MmUfBrPbkw6g4XxnJ7P/fnw6TrJuz7B89qpFXBAbnqFGL70S4bcCdI8y/JuRT+uJPIIGohHJ6sUKZabD3RnCPCsaQUp2RIR1DZMyJjOmUFHVULGx2lt91EyUrZssT/8HvuGEFXWVYp9c3ZP3zowF90ngBptiQ3d9zZdl/PGJ2nXMY4DhsodByeS4sG8ZhraAspWjlgQFTvvyzbEUTjdpj6PaoX8mbYxbLnzPVFGKJ2b5H8F4bvJmp7FJYhcjvl1TyLeaAbR6YZv9XBRXXoxC5dna033+LPmBbVFg39YwFVkFsd37QFUWlMKcOlKRGPx5bhzkWhzgAKTGNdo9++GRcWjRHJHuDtOWe0zXcA7V9dcBaCd9mFF7px2yttz7ujXEQFXyKSUVfkS4ZWvI+UMBuDAMOCfoZ8NNiIm46BL+yWPgKQ0YwtscPYqcQ1sLxKhApGuXrGFta0Y/bOH/F/Xvzx4nUTmtfhstnOlp71HTJi53zoMtrEG88jTnzU/V4FRS2VVPcgyWrqP1T8/teIQCPiZ5oidHkyoPCq/DOnTf0BSdm6Wco4w6odA0R7LoNdvo1EQp5WPNaihvNhb21p+uIIRSdWFxEHaLptY70jBf2TXJs5lxfaCkMCsZOTKv9CkUBjzuVUiA5cDXaDT362hHsqO123kV10aWe6vv/vmn/pLsoBbFjSojakDkHyzKu5liFH6X7eVDcCKTDTwBvXnWUXHgYPCCwOPhdAkraV5SzsojfsHw4wkmUc7CmrSo8kiUBQkGMdDFryQzAv4RaYdX+lOp9HMxPQVgedhuLNzt9zAbd+A0Rg3WrcISFKsy+vOPsiCbJanCkAQNHVDfJtWSYBcB29CepRDIzf1EIj847dQaZw2ewYOENP7dPU9SYB9MCcYEtXBpXiR80MZSihE4+R6FJm8aMLYeD6J+CSYAsRY+joIVR8L1COOGA0z/OwpQwfA2cFiJBZ8yKMCEsVq/H5eGTtx8qVqLEvlzBk8uZW172DcfMO00dGEqFId3QD+4tFqZSxCroKnorcJS4+Lh6u0VKSu3HmVtk7eTzG0prrEwFnZaVL84CyZZkqTuFzth8UrCwFd16+Jlhf3NfR/jEuNUwuNyvJY9J4zNB51xD5hSzZbLAam/PElz2/D/T7PEZBGUzLh0DTuo0XKicvzaRDZaBhUuh8uWQOWyLbMHkCPwLqxEuwl1QhSRBMRVPT8r7XG0wKKwKnLACSGvuQkHY2fJYInNvo70tflRSFBpT8zv+oXOS12cblgeyiwb3cYGCDghTEvZ7+wPOSb4MbQ2lYvfr4HZvupFFpMSAU9D92Ut8Bgt3HK04piJU3tORCyrDvvlkqTone4r1nMXI/DGjOeP/CX4qbg6h0MnX/8HIUvBvV/YkupU6HiR75zVqHFfRiijjGKK1P9UVwsUv6OW1GoSAvYYflzhDdOQqh+58xo/9KwS87WsDNQBDjmgWzHdsJGspO7GlQXffhXSzy9Kf99HiR45Gxm++j3MzJOxmojuffjP49vmAMXHiKjiTr3++Ig76du0mFgVO8Dme9zwZBUfBEHQZmvSHEH685lOis85NnAXPcX12UkqaX+oaOMXK5lJO2nvVMpmKPROAqUG4GAEmrQOQ3Q/gaHKLIQPpZMORGJ3cjZ8ROJZb5UstWg7EF2Y9R74t55hRkKeTSivYJYQtcAVVrwUD7phTynteAXBU2c1wNhUMLa3lzs/65YKPIr8duIXX1t+hyhdBpK7LQkiUIRmrIx2j679roQsVADRS3GiAJRIJsubTppPYAxukFs+A04iPY3fzdDigJNX9MParVG7eu17DEvFGV8qTicFYSAQHPhFv2jJmeUA21CUNz7CDEjcBOkaT7Uycr+j84iWaqv2Pk7mTBGMEVKuujm5dM1UX50zMlMpT6RjZJXfOAwjXESqNmLi8bWlwmic3DqXY5fBXr5jTE6K3m3TdtYIAsMZLCxGeLt/Lc8PPtODkWACVivwzi2LmiuBxB1PbQPEnwHWZVq6EAChh3UWNuAVpoWDa207kMLsLo8J53ktmyixnV8RFmfstVL25LUqy6kLRQXhKr2vVtVffsGXg+9bNTyG0BrKsXJX9TXVsWQfFvobyONlPt/wndmWjU3zyqUtwtxdk/oz+dCQGDTGuctVAn96QpE+uyxKDX3IDGY5JpmwGG5r8C7FnS9aHf449grEuMaU8/ZgcvA7Br3sJAhZOy8ShdeCOrMqDtFDlcBu3gxXDSlzUtn6meQb6waK5kEQ/jHhBPuv/1g1i3PEubs/QP14p4c3bIlYUQpHJqOEScD9BCOB6Ykh+EPOqWWE78Qv/m/1/Wf1R8WM4HvUE6HITIsnlUAd7aWR0Kt8xuXr0iCGflA0rFLni54p1z3brmPmwpuDD9DV0jjR0Ecu/ppamynIo1yyFyWoxiX7vr5gEeXZbpU9W6cwj5tbnjeiN59dYaZXJuXWAa6K2tiOT1FECN2+fKzycr8K3cJ4ynD9F4Zk4mfUCjIj4iBBXtY/3rCtAQNy8fT8q2Qgu4dy26LYiiF5h8mnCTlFhmeCF9SRzd8xwKQ61M0/sECAQNbYpQ2Td/juEeYjg4oSGrqVTcZ4zgVvFGvQHPNQJNgIgj2Cs7A+8aCR+tER02YoRL5nlq3KcB8V0+eBshoZ2pbA8236QuXUjqRHWp9+kTpK7ZcVXkb/WSUQKYwu9oQ+06jq0SPTzG0SSWj6gO5SdDH/HAEn+aRDzHjEMIA82KckSfcbkydcaFQ53Ztqz/uVzboPp3ygPfAHCy8qiHONTCzdk0SWtzF6RFeeHL3O5SW+7/JtVZCfovW07wZr77coiNzDXMGArVSTnVN0D0F+PReHyhgBO0F0n7HQoBGXu2UoInm9cCUjEcmJLne3iYEEV9cuUdwiCz2Wt4tq31lwNMQoKW12R59OqmIYsysiCA55RZlTCXlvuoInBqDIki89YZt/Ir0off918RON69CNoBCXH0DjoL8mcn40BBgj7ehDliM7Jt25CB+hg8QE3Uptma2zXvWmxJwWEYcBWWGKhUpAnGVpNQJ0YBWT1c2KBMequlb2MRGRiPn/3AamO4TyJSaikrbaqEigkr7SEgzVMOaHgykQ4HSv3zJc4dAfrCYO+vc5z9q9S9FuHOAt3MSt1sQTUAajaCqBUTyQfOB/0GhJIXuzbFjp7kodBc3pu39M1nST0nxd0Uti6JAnDpyzOYwFpz2NdxtpQKFA1El34AABBLSURBVKYvK+lljQgc8Mm5b9J4MadTQO22x8OHqEjrFNVFThbDFudxiUY0xYhNd5A+kJUfVXujPaqpHVigfp87kh6/j/OOp8lM4RKJqd4/3gLlnmgtw1mAoRgx/A3UvJL+afC+yLz4lRSIFr1WK8lbHNP0bY4EvQHh1whXwQGPAqGlfsxpIGZUq1aY/dczllKfBvt5oy+3hVgETlp48MDIpam10XFQZvTg2H11kxlIJps0dHwkRbGwDMINJEldy+31C9f7qCAfffK3E4Y5ZZTiYG2LMkoTqR+Q8LWAk5YwoDxJICO9ZGVZaUzVckOe+fOWwEI3LTh2tEbUT6sspq6Z4KiNy4G03fuQ4Fa8H20RkSfCRBfpvOkbCx2gKyHbTwwWNFDdFLWjRh0sjNRTjhrI/4RB9Gn6MJwBXAkO8ReAZ2RHhoSduBkj8j0Xg056wjlintlVjbSfhm76LKXsKYrzOUCmMLMY5Dk0JgtWF+Wfs9WZO3QbvbSDe9vIEBsaUjGmVHPU40D+RUQ19LqWwrM0DOsjQgfj2RsotZMelEEAP/NCpj5AqNdT+TpJowpRpdMOVi1Cfb2rxpZGw1jZJnZc8sRnQdhnP2yQw6Fjw+lHUPt5wa2XtDs+rjtBYPY5Gdp7PLUZGLcicCSfqnl4DgF6rnOqWzXCJ1rNAfcKGSfki2o6NYoaTTBE4KvgFSYFEf4Nwzp2SofqGm4g788phTgRFYV7j32gAhdIh5BAD7hGVWUgnJMl6ZW1wOAhMgVSDmc66CvyKGx3ZcJrqVrrtDEhT3Jy9VUfLDOE6WwNKVPbNiuhJfwb+w+eBAm0EF9m5ria0MIJf7EBOo70HCxvbKDO6KDY6Gkpw9Wn51LH4FkZEonloW5ctT+6X5FC5CPRNF4nLnCseNHO6p/YGd+Tb40TLY1rQqSLd9xvwAE40slcbLR355twjykcIawTPWANTq/W7fMRN3c3juqq+PvnQNJuktl4nOCpsooLRZcY7km9ajOfmxoX419IX6hFf+PdfRJzMjOIdexabUAHZBkt1sYT5NBYY3abbqhqTkZ//trPM82x5md2K6mG8jekiQ7JsLzlFBP1TDvnFLnfjRxdx/fMz6RebA+WCWJpAFvZU8fFBUe4FAQkGb2aVJcB4IXFOWp1WjItvay6an8irg//6uStQML9HR6TA5V2A7gBbKL4SRv5qysh4sVh8PNMVut0EefRe9RD9R7D/wIjkMy8QVJZNYfptxCTy1mM0A0wUiEJXqaEBDAyASyAEi4knUBMfH79lBqZ8eq8fYRT26HLpFvggu30oOl/RD5bvuzz9E390sevPe9ca4ybNYyrZpoyXgfUX96Wi2wPTsrRLGrTgblR6G+nsJrUsq9JQAN0XsOQrTwcZr/ZZmK+lhCKm2r7z2m2l7zGyfRWpmU+yDIb8fy4iYOzLmaWi16BmR1IAURbjODPhTJsMPw5B9tePY10gPnIWD4979EnCnKXobFH6MJEePkf+tuBQylbnPXgNiBHNFBtlw23F+0UkZ+6qd8v0i77cEOvpF0OId5UQ9pWHtNtSjvbOvKdHtnnDPXTcu54Z5nRaewU+VqahCyVpVq8vo0h/i/6eZky6Cw6jR0goIngSmkGJiPq/L6k0C72Tvr5/Tcm6XNXo7P5rA9eFhdBR0uJGSdbrYv1xsfKK79HD9WO7hj5Vbqna8mR9wjDcwEpqpvtsx2Yvmvp7fXe+8YqcM6Oc51Es1viGUGirprfRO6R5pjaadh5BkeW3zataH9vAAKxh8pTu5p/jhun82e6RMSXJHdSDxDNZ1tMjuVeJDGnuSSs9wQu8Jze8nkBY+XerkwKzPziRDKPsQXyuMRLG98jSy+recxXo9O61IGQ2ObMUpP/L2QWm78mB2NOXlymbiq237DES75kzU09RDakRHe93ohV8qno7LYCj1DkAcZDXU2WEWVwvwTaIW63s4EBM++XMF32rf4kezWJZsaZAW6xR51zbVE1tkcrYJOvsZeIQcqBZcckSgL1tcu/ABJ8Z5OSi5vpwUMjYEZ4eibUEAJ6GgFfOI80M3SM0vCLEi2DKmndjKOWBMyZvYjws4yWArv6nEj++ICxVz7SUeDXdtBK0nPGH1A4Frh/JeNDQnQ/M5bvhVJZltzQ5mhGfl7jG8Mob1xjt42YcPcMmE4GcgDH7RUhffkokPPrwT2lJpv3J/U3849cbIq7DFduGN+0AVN2BxNYhjVNhyvRLRlG4O/OA/ETqUYb7cinT4IrqZI8qKyHtoubxwRmyoz4A1W3D/xOMvEfhvglR+6Z0j4l6c/hLYvGl7YstC2NIciPocoB4EGPk69X8coaauclR/xaMIBHOlawhQ2RZ4PqW+fzMhMkfCa4G1u4pdTSICpDjyKtTPE3nd79rZsB2ZXRdI3fn4cRhfYT8gJtFGzI1M2CjsYh/KN9J0bmFUjh0mdpThnRsgxbDyHJd8tTa5uBkpsR+wG4DVdRN09mYFAQwsmTBcfg8Js4t28d+EUdPQY0XFa9U9flUNzU2ulzLS7FhmugYfSFTqiB5FHaiQzqyKzVPjdlZIkjMnpOYcRQ6w9QiPeaeMfyvcyjpWw/szM2CxSrtdNljbFsIC2UMG3J3i/AuOWWIYF5N4YZK7lhpOqyHTUsZRVdSlqha7w/YAcfG8MWTiHf4dqohVZlKxkK52+SM8f4HMXyhVu6Pk5DHgeVY6aww7eQeCmOCRrz1X/PSIT/LrMB5zBhf3e0MxAmpVC+QMl5eAlP3v+Q6IVOQTVSCcCiyWAtWzQDszzKQ5fFTEDMSiUKdzFUZQptzrgBqttpaiMRKtuRYEGKFakQBmyuZvqxXA3ycYyEiDRn6PFTaFG9E06gmOJIWA6+CijlxCyi13UIJci7pLZJcgk6YrDFDmOXVuF5ZStc62F6hJwXS0mjq2OxfVbgIlJTSsfFhBrszQIiQlSLTbmYaEMuyXSlpeQhamjoJxln0Kh5Jwp94TmyU5TUARF7lxiVe+PnI58UwnU2CS/i2Y8vhxHbMBdmL0aGLayY2z0B+Kqmmj8inLOG/7PUyEjTANcSYJudliFQ9TdhK+2a44t66b6eb4DV4QK1YxH/qCZDY2OVq7Bmh4ZkjdV0Tfq0uDYktFVjX2FIH/DecP0nITWaAtvQHH/DGMm4IDHkiwF/MeKNNtBsOExeK1Gt1Zf3qgf16S3r23iK8RVoXI+t5OuflM9A4chsx9GkAXt/UOMwJ1Y5JvUgDVG42ylI7AGOm38xdjCMoc2eJFIb3Lw3Rr48FKeMj0rsQeAde99MOpQJcqm0u56TJfqRYHGz+0CAwozy9geLiqxK4QMwTJ4W7COsLvBfRHuL+fowa0cw9A1hiGtEpQy2zdBN7q/GrphvPs15l8SHxyS2aMwpu/qfOCj535lYG+5/HqAvft/0HxULAm0uKpSrrQKUAnxT8k1kCvx9QbnAidFoTwjB/jYsmTH7p6fHTTj4Jx66vRvytEfKA5Ezp/5b3hJ0NZ/Mv68B0fMNbX62QeQ0tXB6t9vgxIxQSh0J6dW8YesoqpYQKbwNKF6D4pljYcXwdgG12GR4DgiXnj+7FDNbGxgUNvbWmp17YgCurxcbNfdvVx25v5TIs+qRRYnyAmKrUA/5qUzRtIWuKFbHj4quB+YKbMTldBtxfoAGg4DrHKVvmWY2pJ31fKLYkqMKFfF7b4ALeQBLL/RNIlcT06chaO/C5utFiokyWiI9/3jeIVawN1FQD9nsuKIZNrQvKMMBZhZMdl3vAbCozYuXrdLGv/fnZMb7vMLF/EC2paJZnwdIfEGxYnG5wT+FuoCz6ap5oVcsUCcpeyMaMYrtdMQD7FuaxFy9i6hDU+k/TAq/Gi2SBA0CLQAgz+MM012yV0NzjZoxa4MNMGwnKbwTCdd1g+bJY3kbH5m5lFaCYksvzYFNLvGH/t7R5hFlSmzzbEUCLfDZ5vqKB+dndVJ6oWNeKmz6V3Vj1hCOhYfRbigZUFb1b50KThbqofL1nCw8CFL090K9pBwc9AGmF748ysLzwHfGLc0/AsR3oqcCojqjRCjH3i1S3M6fjHUw2qHS/R8Gocwliwdug1g7vHL1netcbNOYhnyY1/OiFtYaspthaC4W4UkzTAFNI8KjsvLUBXxHTHaFC5c5DgcDGGUGTvfIcV9aKvAqHhW/4c+E9C0YcX2keZ29q/j/uzZi1CkZiVbKA1XSNg3gInDGF+ML5TJr11tNrR/VR/2A9mzliFzJ0moG6PPzyHiDk4i66oHntM0C8+wOrQ2L9zgBeQ11A4SU6xLXcR4u0/wpeAOB4Eo9PNKnEG+xY3LKx568HJA4CCeHNXSW1Gpa+9kA7a6b3L2io96dV5Ij5OafeOdKJgv9VdfukShwhQvVVxoz7wR2IE0CC2GhlMeCiyCMvUje8GbOBr51St/S/IQ86v1fxDQ3KBVTbmQcYFEtf0c3yuv6a5LUpDdhjI8bOQh/Pc+yelVeMzTJxqiD/+PRwZK6XewlW/vOi7gcuXU2nIN+rYf/pF2z/je2f1UFHnmQAQz5Ik4LaBFyWTBZieaD4VoVwj6gOPgMvB/4eAoDMVixBcGmBOB3+LfrNDmyQLIypRCxtceLBCSbd4jf9OyN7jfXXSzZK9ccvA1w8suOMsDchLr7VadB5PEpAERjOqZO+nZ/XHA9YTOzePkDbkhz5AyB25Uh08nYA+ioRYqyf0edahEW34JyQR3nb5OLMjbC9l3DVIOIbYp/z08QY25Ul4oPbCCFCbBSTKh8COQqaIFusrVpQ+6RAA7gyz2QXhN6pAHM0K5xi4xGi3UFY90Pw6cBOohJfHG6Wkf+172ZtPHUZnc23PBo1Lb94PAndTjLf5RJ7Q7ETL4nENtFo0jdE1KROJIbFvFHZHI3/yAu2BtzhrP00IMMrjew6wxQh7WHahtcXMtCVANqHUKofvOPrFCPmQVg3uh39aBySBJOCGK5h9YJP23MBEHgpZfvgQdpHWmhbA96uY+fszDlBaIn2XbiXYf0DjkITu1ZJe2JUQqsYmYJhSxgsHwHk7s66U1+AM8ByqEkzWxzAxcZmLxZQnc5/gmP8dvcLOahsh5DrqNFiDpAOR6abNnF6YqS9EtpjOHpyTiRai5IagARvzaoNqDUyUGIa//8Hmw4h+99zLnmfuoyalbGInzZK0LE3fKHcslnrxGdcsLjThzu9FEhDvfZGKba+jmzHrov8qfrFZCjp04H0rMU8uO+udXVE99ruRK9q9i/Q6H8YyPUoTBNL9rnhSQ7vmNDuQJkWv1o6HImzKX/znsANm5ZasZQdnwmWq5eARAU3Wb/geHvXwcioDZ3C/1ZfWDUlaSMnicoB6BTvgGvTt/XolI/5qJfOatSd73RqOU9U+OkPOad9y4U/0k49DNlhcJ6qZqla0NmJl3P2aek/ICyvj/I0zcbP6ngxeMb0IqH4b9sT/R/YkEoGozGrjHWco9SgMK4lPv6/iPMfyXstLntaUXKS4qjToI/KEiiUF6UT3rLcz1bFZVkFVynDioAHvE+TXRiWYg5st+/ERsPMqFTDwwGoV6yElTDEPZzj2QWse0LzPrGAAAAAElFTkSuQmCC');\n",
              "    "
            ],
            "text/plain": [
              "<IPython.core.display.Javascript object>"
            ]
          },
          "metadata": {
            "tags": []
          }
        },
        {
          "output_type": "display_data",
          "data": {
            "application/javascript": [
              "\n",
              "      const senderChannel = new BroadcastChannel('7f9e34e42ac8');\n",
              "      senderChannel.postMessage('1');\n",
              "    "
            ],
            "text/plain": [
              "<IPython.core.display.Javascript object>"
            ]
          },
          "metadata": {
            "tags": []
          }
        },
        {
          "output_type": "display_data",
          "data": {
            "application/javascript": [
              "\n",
              "      const senderChannel = new BroadcastChannel('7f9e34e42f98');\n",
              "      senderChannel.postMessage('data:image/png;base64,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');\n",
              "    "
            ],
            "text/plain": [
              "<IPython.core.display.Javascript object>"
            ]
          },
          "metadata": {
            "tags": []
          }
        },
        {
          "output_type": "display_data",
          "data": {
            "application/javascript": [
              "\n",
              "      const senderChannel = new BroadcastChannel('7f9e34e42ba8');\n",
              "      senderChannel.postMessage('2');\n",
              "    "
            ],
            "text/plain": [
              "<IPython.core.display.Javascript object>"
            ]
          },
          "metadata": {
            "tags": []
          }
        },
        {
          "output_type": "display_data",
          "data": {
            "application/javascript": [
              "\n",
              "      const senderChannel = new BroadcastChannel('7f9e34e42978');\n",
              "      senderChannel.postMessage('data:image/png;base64,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');\n",
              "    "
            ],
            "text/plain": [
              "<IPython.core.display.Javascript object>"
            ]
          },
          "metadata": {
            "tags": []
          }
        },
        {
          "output_type": "display_data",
          "data": {
            "application/javascript": [
              "\n",
              "      const senderChannel = new BroadcastChannel('7f9e34e42ac8');\n",
              "      senderChannel.postMessage('3');\n",
              "    "
            ],
            "text/plain": [
              "<IPython.core.display.Javascript object>"
            ]
          },
          "metadata": {
            "tags": []
          }
        }
      ]
    },
    {
      "cell_type": "code",
      "metadata": {
        "id": "384QZW6T8Et6",
        "colab_type": "code",
        "outputId": "de4f1c0c-a7fb-47ee-94b9-d52fa205ba15",
        "colab": {
          "base_uri": "https://localhost:8080/",
          "height": 17
        }
      },
      "source": [
        "import numpy as np\n",
        "\n",
        "img = np.random.randint(0, 128, size=[64,64,3], dtype=np.uint8)\n",
        "canvas1.drawImage(img, 0, 0)\n",
        "url = 'http://www.saveakita.or.jp/wp/wp-content/uploads/2019/03/55604875_2650124855003336_4864848587902681088_o.jpg'\n",
        "canvas1.drawImage(url, 0, 0, 2000, 1000, 16, 16, 64, 64)"
      ],
      "execution_count": 0,
      "outputs": [
        {
          "output_type": "display_data",
          "data": {
            "application/javascript": [
              "\n",
              "        const senderChannel = new BroadcastChannel('7fce952541d0');\n",
              "        senderChannel.postMessage(['drawImage', 'data:image/png;base64,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', 0, 0]);\n",
              "      "
            ],
            "text/plain": [
              "<IPython.core.display.Javascript object>"
            ]
          },
          "metadata": {
            "tags": []
          }
        },
        {
          "output_type": "display_data",
          "data": {
            "application/javascript": [
              "\n",
              "        const senderChannel = new BroadcastChannel('7fce952541d0');\n",
              "        senderChannel.postMessage(['drawImage', 'http://www.saveakita.or.jp/wp/wp-content/uploads/2019/03/55604875_2650124855003336_4864848587902681088_o.jpg', 0, 0, 2000, 1000, 16, 16, 64, 64]);\n",
              "      "
            ],
            "text/plain": [
              "<IPython.core.display.Javascript object>"
            ]
          },
          "metadata": {
            "tags": []
          }
        }
      ]
    },
    {
      "cell_type": "markdown",
      "metadata": {
        "id": "880YMBt5wEez",
        "colab_type": "text"
      },
      "source": [
        "# Slackとの連携\n",
        "- カーネルでの処理中にSlackに画像等を投稿する。"
      ]
    },
    {
      "cell_type": "code",
      "metadata": {
        "id": "4zdyP7_LdilV",
        "colab_type": "code",
        "cellView": "form",
        "colab": {
          "base_uri": "https://localhost:8080/",
          "height": 289
        },
        "outputId": "53e4dd84-8493-43cb-a45a-d8b3037b8924"
      },
      "source": [
        "#@title Slack extensions\n",
        "#export\n",
        "\n",
        "!pip install slacker\n",
        "!pip install slackbot\n",
        "!pip install apng\n",
        "\n",
        "from slacker import Slacker\n",
        "from apng import APNG\n",
        "import cv2\n",
        "import tempfile\n",
        "import threading\n",
        "import weakref\n",
        "from slackbot.manager import PluginsManager\n",
        "from slackbot.slackclient import SlackClient\n",
        "from slackbot.dispatcher import MessageDispatcher\n",
        "import re, time\n",
        "import traceback\n",
        "from IPython.utils.capture import capture_output\n",
        "from xml.sax.saxutils import unescape\n",
        "\n",
        "def run_cell(cell, on_stdout=None, on_stderr=None, on_display=None):\n",
        "  last_len = {}\n",
        "  callback = {}\n",
        "  capture = {'stdout': False, 'stderr': False, 'display': False}\n",
        "\n",
        "  if on_stdout is not None:\n",
        "    last_len['stdout'] = 0\n",
        "    callback['stdout'] = on_stdout\n",
        "    capture['stdout'] = True\n",
        "  if on_stderr is not None:\n",
        "    last_len['stderr'] = 0\n",
        "    callback['stderr'] = on_stderr\n",
        "    capture['stderr'] = True\n",
        "  if on_display is not None:\n",
        "    last_len['display'] = 0\n",
        "    callback['display'] = on_display\n",
        "    capture['display'] = True\n",
        "\n",
        "  exc = None\n",
        "  results = []\n",
        "  thread = threading.Thread(\n",
        "      target=lambda: results.append(get_ipython().run_cell(cell)))\n",
        "  with capture_output(**capture) as io:\n",
        "    try:\n",
        "      thread.start()\n",
        "      while True:\n",
        "        time.sleep(0.1)\n",
        "        fin = not thread.is_alive()\n",
        "        if fin:\n",
        "          if results[0].result is not None:\n",
        "            display(results[0].result)\n",
        "          try:\n",
        "            results[0].raise_error()\n",
        "          except:\n",
        "            traceback.print_exc()\n",
        "\n",
        "        outputs = {'display': list(io.outputs),\n",
        "                    'stdout': io.stdout,\n",
        "                    'stderr': io.stderr}\n",
        "\n",
        "        for key, func in callback.items():\n",
        "          out = outputs[key]\n",
        "          n = len(out)\n",
        "          last_n = last_len[key]\n",
        "          if n > last_n:\n",
        "            if isinstance(out, str):\n",
        "              func(out[last_n:])\n",
        "            else:\n",
        "              for o in out[last_n:]:\n",
        "                func(o.data)\n",
        "            last_len[key] = n\n",
        "\n",
        "        if fin:\n",
        "          break\n",
        "    except:\n",
        "      exc = traceback.format_exc()\n",
        "  if exc is not None:\n",
        "    print(exc)\n",
        "\n",
        "class SlackBot(object):\n",
        "  def __init__(self, token, default_channel='#general'):\n",
        "    self._slacker = Slacker(token)\n",
        "    self._client = SlackClient(token)\n",
        "    self._plugins = PluginsManager()\n",
        "    self._plugins.commands = {\n",
        "      'respond_to': {},\n",
        "      'listen_to': {},\n",
        "      'default_reply': {}\n",
        "    }\n",
        "    self._dispatcher = MessageDispatcher(self._client, self._plugins, None)\n",
        "    self._dispatcher._pool.add_task = self._dispatcher.dispatch_msg\n",
        "\n",
        "    self._default_channel = default_channel\n",
        "    self._listener_thread = None\n",
        "    self._keepactive_thread = None\n",
        "\n",
        "  def start_listener(self):\n",
        "    if not self._client.connected: \n",
        "      self._client.rtm_connect()\n",
        "\n",
        "    if self._listener_thread is None:\n",
        "      disp = self._dispatcher\n",
        "      disp._client = self._client\n",
        "      def target():\n",
        "        try:\n",
        "          disp.loop()\n",
        "        except AttributeError:\n",
        "          pass\n",
        "      self._listener_thread = threading.Thread(target=target)\n",
        "      self._listener_thread.start()\n",
        "\n",
        "    if self._keepactive_thread is None:\n",
        "      cli = self._client\n",
        "      _self = weakref.proxy(self)\n",
        "      def target():\n",
        "        while True:\n",
        "          for _ in range(30*60):\n",
        "            try:\n",
        "              if threading.current_thread() is not _self._keepactive_thread:\n",
        "                return\n",
        "            except ReferenceError:\n",
        "              return\n",
        "            time.sleep(1)\n",
        "          cli.ping()\n",
        "      self._keepactive_thread = threading.Thread(target=target)\n",
        "      self._keepactive_thread.start()\n",
        "\n",
        "  def stop_listener(self):\n",
        "    if self._listener_thread is not None:\n",
        "      self._dispatcher._client = None\n",
        "      self._listener_thread.join()\n",
        "      self._listener_thread = None\n",
        "    if self._keepactive_thread is not None:\n",
        "      _keepactive_thread = self._keepactive_thread\n",
        "      self._keepactive_thread = None\n",
        "      _keepactive_thread.join()\n",
        "\n",
        "  def __del__(self):\n",
        "    self.stop_listener()\n",
        "\n",
        "  def post_text(self, text, channels=None, as_user=True, **kwargs):\n",
        "    self._slacker.chat.post_message(\n",
        "        channels or self._default_channel,\n",
        "        text, as_user=as_user, **kwargs)\n",
        "\n",
        "  def post_file(self, file, channels=None, **kwargs):\n",
        "    self._slacker.files.upload(\n",
        "        file_=file, channels=channels or self._default_channel,\n",
        "        **kwargs)\n",
        "\n",
        "  def post_display(self, disp, raw=False, **kwargs):\n",
        "    if raw:\n",
        "      data = disp\n",
        "    else:\n",
        "      data, _ = get_ipython().display_formatter.format(disp)\n",
        "\n",
        "    for mime in ['text/latex', 'image/jpeg', 'image/png', 'image/svg+xml', 'text/html', 'application/json', 'text/markdown', 'text/plain']:\n",
        "      if mime in data:\n",
        "        data = data[mime]\n",
        "        break\n",
        "    else:\n",
        "      return\n",
        "\n",
        "    if mime == 'text/latex':\n",
        "      import urllib\n",
        "      url = 'https://chart.googleapis.com/chart?cht=tx&chl='+urllib.parse.quote(data)\n",
        "      _kwargs = dict(kwargs)\n",
        "      _kwargs.setdefault('as_user', True)\n",
        "      _kwargs.setdefault('channels', self._default_channel)\n",
        "      channels = _kwargs.pop('channels')\n",
        "      self._slacker.chat.post_message(channels, text='output', attachments=[{'title': '', 'image_url': url}], **_kwargs)\n",
        "\n",
        "    elif mime in ['image/jpeg', 'image/png']:\n",
        "      suffix = '.'+mime.split('/')[1]\n",
        "      with tempfile.NamedTemporaryFile(suffix=suffix) as f:\n",
        "        f.file.write(data)\n",
        "        f.file.flush()\n",
        "        self.post_file(f.name, filename='output'+suffix, filetype=suffix[1:], **kwargs)\n",
        "\n",
        "    elif mime in ['image/svg+xml']:\n",
        "      suffix = '.svg'\n",
        "      with tempfile.NamedTemporaryFile(suffix=suffix, mode='w+') as f:\n",
        "        f.file.write(data)\n",
        "        f.file.flush()\n",
        "        self.post_file(f.name, filename='output'+suffix, filetype=suffix[1:], **kwargs)\n",
        "\n",
        "    elif mime in ['text/html', 'application/json']:\n",
        "      suffix = '.'+mime.split('/')[1]\n",
        "      with tempfile.NamedTemporaryFile(suffix=suffix, mode='w+') as f:\n",
        "        f.file.write(data)\n",
        "        f.file.flush()\n",
        "        self.post_file(f.name, filename='output'+suffix, filetype=suffix[1:], **kwargs)\n",
        "\n",
        "    elif mime == 'text/markdown':\n",
        "      _kwargs = dict(kwargs)\n",
        "      _kwargs['mrkdwn'] = True\n",
        "      self.post_text(data, **_kwargs)\n",
        "\n",
        "    elif mime == 'text/plain':\n",
        "      _kwargs = dict(kwargs)\n",
        "      _kwargs['mrkdwn'] = False\n",
        "      self.post_text(data, **_kwargs)\n",
        "\n",
        "  def post_image(self, img, **kwargs):\n",
        "    if len(img.shape) == 3:\n",
        "      if img.shape[2] == 3:\n",
        "        img = img[:,:,[2,1,0]]\n",
        "      elif img.shape[2] == 4:\n",
        "        img = img[:,:,[2,1,0,3]]\n",
        "\n",
        "    with tempfile.NamedTemporaryFile(suffix='.png') as f:\n",
        "      cv2.imwrite(f.name, img)\n",
        "      self.post_file(f.name, **kwargs)\n",
        "\n",
        "  def post_animation(self, anim, **kwargs):\n",
        "    if len(anim.shape) == 4:\n",
        "      if anim.shape[3] == 3:\n",
        "        anim = anim[:,:,:,[2,1,0]]\n",
        "      elif anim.shape[3] == 4:\n",
        "        anim = anim[:,:,:,[2,1,0,3]]\n",
        "\n",
        "    apng = APNG()\n",
        "    for frame in anim:\n",
        "      with tempfile.NamedTemporaryFile(suffix='.png') as f:\n",
        "        cv2.imwrite(f.name, frame)\n",
        "        apng.append_file(f.name)\n",
        "    with tempfile.NamedTemporaryFile(suffix='.png') as f:\n",
        "      apng.save(f.name)\n",
        "      self.post_file(f.name, **kwargs)\n",
        "\n",
        "  def respond_to(self, matchstr, flags=0):\n",
        "    def wrapper(func):\n",
        "      self._plugins.commands['respond_to'][\n",
        "          re.compile(matchstr, flags)] = func\n",
        "      return func\n",
        "    return wrapper\n",
        "\n",
        "  def listen_to(self, matchstr, flags=0):\n",
        "    def wrapper(func):\n",
        "      self._plugins.commands['listen_to'][\n",
        "          re.compile(matchstr, flags)] = func\n",
        "      return func\n",
        "    return wrapper"
      ],
      "execution_count": 59,
      "outputs": [
        {
          "output_type": "stream",
          "text": [
            "Requirement already satisfied: slacker in /usr/local/lib/python3.6/dist-packages (0.14.0)\n",
            "Requirement already satisfied: requests>=2.2.1 in /usr/local/lib/python3.6/dist-packages (from slacker) (2.23.0)\n",
            "Requirement already satisfied: idna<3,>=2.5 in /usr/local/lib/python3.6/dist-packages (from requests>=2.2.1->slacker) (2.9)\n",
            "Requirement already satisfied: chardet<4,>=3.0.2 in /usr/local/lib/python3.6/dist-packages (from requests>=2.2.1->slacker) (3.0.4)\n",
            "Requirement already satisfied: certifi>=2017.4.17 in /usr/local/lib/python3.6/dist-packages (from requests>=2.2.1->slacker) (2020.4.5.1)\n",
            "Requirement already satisfied: urllib3!=1.25.0,!=1.25.1,<1.26,>=1.21.1 in /usr/local/lib/python3.6/dist-packages (from requests>=2.2.1->slacker) (1.24.3)\n",
            "Requirement already satisfied: slackbot in /usr/local/lib/python3.6/dist-packages (0.5.6)\n",
            "Requirement already satisfied: requests>=2.4.0 in /usr/local/lib/python3.6/dist-packages (from slackbot) (2.23.0)\n",
            "Requirement already satisfied: websocket-client<=0.44.0,>=0.22.0 in /usr/local/lib/python3.6/dist-packages (from slackbot) (0.44.0)\n",
            "Requirement already satisfied: six>=1.10.0 in /usr/local/lib/python3.6/dist-packages (from slackbot) (1.12.0)\n",
            "Requirement already satisfied: slacker>=0.9.50 in /usr/local/lib/python3.6/dist-packages (from slackbot) (0.14.0)\n",
            "Requirement already satisfied: idna<3,>=2.5 in /usr/local/lib/python3.6/dist-packages (from requests>=2.4.0->slackbot) (2.9)\n",
            "Requirement already satisfied: chardet<4,>=3.0.2 in /usr/local/lib/python3.6/dist-packages (from requests>=2.4.0->slackbot) (3.0.4)\n",
            "Requirement already satisfied: certifi>=2017.4.17 in /usr/local/lib/python3.6/dist-packages (from requests>=2.4.0->slackbot) (2020.4.5.1)\n",
            "Requirement already satisfied: urllib3!=1.25.0,!=1.25.1,<1.26,>=1.21.1 in /usr/local/lib/python3.6/dist-packages (from requests>=2.4.0->slackbot) (1.24.3)\n",
            "Requirement already satisfied: apng in /usr/local/lib/python3.6/dist-packages (0.3.4)\n"
          ],
          "name": "stdout"
        }
      ]
    },
    {
      "cell_type": "code",
      "metadata": {
        "id": "kW-4l_LJwUm0",
        "colab_type": "code",
        "colab": {
          "base_uri": "https://localhost:8080/",
          "height": 358
        },
        "outputId": "ec3c52f5-2ced-44bc-f35a-a9a275fab834"
      },
      "source": [
        "import requests\n",
        "\n",
        "url = 'https://raw.githubusercontent.com/hirokiyokoyama/colab-hacks/master/colab_hacks.ipynb'\n",
        "nb = requests.get(url).json()\n",
        "def is_exported(cell):\n",
        "  exported = x['cell_type']=='code' \\\n",
        "              and x['source'][0].startswith('#@title ')\n",
        "              and x['source'][1].startswith('#export')\n",
        "def key_value(cell):\n",
        "  source = cell['source']\n",
        "  key = source[0].split(' ', maxsplit=1)[1].strip()\n",
        "  value = ''.join(source[2:])\n",
        "  return key, value\n",
        "cells = {key: value for key, value in map(key_value, filter(is_exported, nb['cells']))}\n",
        "print(list(cells.keys()))\n",
        "\n",
        "#get_ipython().run_cell()"
      ],
      "execution_count": 31,
      "outputs": [
        {
          "output_type": "stream",
          "text": [
            "['Javascript extensions', 'Slack extensions', 'Numpyの配列を画像として投稿', 'matplotlibの図を投稿', 'ボットへのメッセージを受け付ける', 'Slackからセルを実行して結果をSlackに返す', 'TF model trainer', 'Test']\n"
          ],
          "name": "stdout"
        },
        {
          "output_type": "error",
          "ename": "TypeError",
          "evalue": "ignored",
          "traceback": [
            "\u001b[0;31m---------------------------------------------------------------------------\u001b[0m",
            "\u001b[0;31mTypeError\u001b[0m                                 Traceback (most recent call last)",
            "\u001b[0;32m<ipython-input-31-b38a615f3d08>\u001b[0m in \u001b[0;36m<module>\u001b[0;34m()\u001b[0m\n\u001b[1;32m      7\u001b[0m \u001b[0mprint\u001b[0m\u001b[0;34m(\u001b[0m\u001b[0mlist\u001b[0m\u001b[0;34m(\u001b[0m\u001b[0mlibs\u001b[0m\u001b[0;34m.\u001b[0m\u001b[0mkeys\u001b[0m\u001b[0;34m(\u001b[0m\u001b[0;34m)\u001b[0m\u001b[0;34m)\u001b[0m\u001b[0;34m)\u001b[0m\u001b[0;34m\u001b[0m\u001b[0;34m\u001b[0m\u001b[0m\n\u001b[1;32m      8\u001b[0m \u001b[0;34m\u001b[0m\u001b[0m\n\u001b[0;32m----> 9\u001b[0;31m \u001b[0mget_ipython\u001b[0m\u001b[0;34m(\u001b[0m\u001b[0;34m)\u001b[0m\u001b[0;34m.\u001b[0m\u001b[0mrun_cell\u001b[0m\u001b[0;34m(\u001b[0m\u001b[0;34m)\u001b[0m\u001b[0;34m\u001b[0m\u001b[0;34m\u001b[0m\u001b[0m\n\u001b[0m",
            "\u001b[0;32m/usr/local/lib/python3.6/dist-packages/ipykernel/zmqshell.py\u001b[0m in \u001b[0;36mrun_cell\u001b[0;34m(self, *args, **kwargs)\u001b[0m\n\u001b[1;32m    535\u001b[0m     \u001b[0;32mdef\u001b[0m \u001b[0mrun_cell\u001b[0m\u001b[0;34m(\u001b[0m\u001b[0mself\u001b[0m\u001b[0;34m,\u001b[0m \u001b[0;34m*\u001b[0m\u001b[0margs\u001b[0m\u001b[0;34m,\u001b[0m \u001b[0;34m**\u001b[0m\u001b[0mkwargs\u001b[0m\u001b[0;34m)\u001b[0m\u001b[0;34m:\u001b[0m\u001b[0;34m\u001b[0m\u001b[0;34m\u001b[0m\u001b[0m\n\u001b[1;32m    536\u001b[0m         \u001b[0mself\u001b[0m\u001b[0;34m.\u001b[0m\u001b[0m_last_traceback\u001b[0m \u001b[0;34m=\u001b[0m \u001b[0;32mNone\u001b[0m\u001b[0;34m\u001b[0m\u001b[0;34m\u001b[0m\u001b[0m\n\u001b[0;32m--> 537\u001b[0;31m         \u001b[0;32mreturn\u001b[0m \u001b[0msuper\u001b[0m\u001b[0;34m(\u001b[0m\u001b[0mZMQInteractiveShell\u001b[0m\u001b[0;34m,\u001b[0m \u001b[0mself\u001b[0m\u001b[0;34m)\u001b[0m\u001b[0;34m.\u001b[0m\u001b[0mrun_cell\u001b[0m\u001b[0;34m(\u001b[0m\u001b[0;34m*\u001b[0m\u001b[0margs\u001b[0m\u001b[0;34m,\u001b[0m \u001b[0;34m**\u001b[0m\u001b[0mkwargs\u001b[0m\u001b[0;34m)\u001b[0m\u001b[0;34m\u001b[0m\u001b[0;34m\u001b[0m\u001b[0m\n\u001b[0m\u001b[1;32m    538\u001b[0m \u001b[0;34m\u001b[0m\u001b[0m\n\u001b[1;32m    539\u001b[0m     \u001b[0;32mdef\u001b[0m \u001b[0m_showtraceback\u001b[0m\u001b[0;34m(\u001b[0m\u001b[0mself\u001b[0m\u001b[0;34m,\u001b[0m \u001b[0metype\u001b[0m\u001b[0;34m,\u001b[0m \u001b[0mevalue\u001b[0m\u001b[0;34m,\u001b[0m \u001b[0mstb\u001b[0m\u001b[0;34m)\u001b[0m\u001b[0;34m:\u001b[0m\u001b[0;34m\u001b[0m\u001b[0;34m\u001b[0m\u001b[0m\n",
            "\u001b[0;31mTypeError\u001b[0m: run_cell() missing 1 required positional argument: 'raw_cell'"
          ]
        }
      ]
    },
    {
      "cell_type": "code",
      "metadata": {
        "id": "gb72YILUyh6A",
        "colab_type": "code",
        "colab": {}
      },
      "source": [
        "#@title Numpyの配列を画像として投稿\n",
        "TOKEN = \"\" #@param {type:\"string\"}\n",
        "\n",
        "slack = SlackBot(TOKEN, default_channel='#colab')\n",
        "\n",
        "import numpy as np\n",
        "img = np.random.randint(0, 255, size=[64,64,3], dtype=np.uint8)\n",
        "slack.post_image(img, title='image', initial_comment='test')"
      ],
      "execution_count": 0,
      "outputs": []
    },
    {
      "cell_type": "code",
      "metadata": {
        "id": "5B3yRP44w4C4",
        "colab_type": "code",
        "cellView": "both",
        "colab": {}
      },
      "source": [
        "#@title matplotlibの図を投稿\n",
        "TOKEN = \"\" #@param {type:\"string\"}\n",
        "\n",
        "slack = SlackBot(TOKEN, default_channel='#colab')\n",
        "\n",
        "import matplotlib.pyplot as plt\n",
        "\n",
        "with capture_output(False, False, True) as io:\n",
        "  fig = plt.figure()\n",
        "  plt.plot([1,4,2,5])\n",
        "  plt.show()\n",
        "slack.post_display(io.outputs[0])"
      ],
      "execution_count": 0,
      "outputs": []
    },
    {
      "cell_type": "code",
      "metadata": {
        "id": "pqN3EUsvtTow",
        "colab_type": "code",
        "cellView": "both",
        "colab": {}
      },
      "source": [
        "#@title ボットへのメッセージを受け付ける\n",
        "TOKEN = \"\" #@param {type:\"string\"}\n",
        "\n",
        "slack = SlackBot(TOKEN, default_channel='#colab')\n",
        "slack.start_listener()\n",
        "\n",
        "@slack.respond_to('abc')\n",
        "def reply_abc(message):\n",
        "  message.reply('def')\n",
        "  \n",
        "@slack.respond_to('xyz')\n",
        "def reply_xyz(message):\n",
        "  import numpy as np\n",
        "  img = np.random.randint(0, 255, size=[64,64,3], dtype=np.uint8)\n",
        "  slack.post_image(\n",
        "      img,\n",
        "      channels = message.body['channel'],\n",
        "      thread_ts = message.body['ts'])"
      ],
      "execution_count": 0,
      "outputs": []
    },
    {
      "cell_type": "code",
      "metadata": {
        "id": "XZaFdrV2HpYv",
        "colab_type": "code",
        "cellView": "both",
        "colab": {}
      },
      "source": [
        "#@title Slackからセルを実行して結果をSlackに返す\n",
        "TOKEN = \"\" #@param {type:\"string\"}\n",
        "\n",
        "slack = SlackBot(TOKEN, default_channel='#colab')\n",
        "slack.start_listener()\n",
        "\n",
        "@slack.respond_to('^run_cell\\s')\n",
        "def respond_cell(message):\n",
        "  cell = unescape(message.body['text']).split('\\n', maxsplit=1)[1]\n",
        "  reply_args = {\n",
        "    'channels': message.body['channel'],\n",
        "    'thread_ts': message.body['ts']\n",
        "  }\n",
        "  \n",
        "  from functools import partial\n",
        "  run_cell(cell,\n",
        "          on_stdout = partial(slack.post_text, **reply_args),\n",
        "          on_stderr = partial(slack.post_text, **reply_args),\n",
        "          on_display = partial(slack.post_display, raw=True, **reply_args))"
      ],
      "execution_count": 0,
      "outputs": []
    },
    {
      "cell_type": "markdown",
      "metadata": {
        "id": "z70F09oT0PQH",
        "colab_type": "text"
      },
      "source": [
        "# TensorFlow上の訓練スケジューリング\n",
        "- datasetと複数のモデルを渡しておけば、バックグラウンドで１エポックごとに順次学習する。\n",
        "- 途中でモデルの追加・削除ができる。途中で追加した場合、他のモデルに追いつくまでそのモデルを学習する。\n",
        "- ローカルランタイムでの使用が前提。\n",
        "- SavedModelTraineeに渡すモデルは\n",
        " - tf.keras.Modelやtf.Moduleなどのインスタンス\n",
        " - 公開するメソッドは@tf.function(input_signature=[...])でデコレートする\n",
        " - 訓練ステップを実装するメソッドはtrain_stepという名前で公開する\n",
        " - 公開するプロパティはtf.Variableにする\n"
      ]
    },
    {
      "cell_type": "code",
      "metadata": {
        "id": "ozQ55NOoz-2Q",
        "colab_type": "code",
        "cellView": "form",
        "colab": {}
      },
      "source": [
        "#@title TF model trainer\n",
        "#export\n",
        "\n",
        "import threading\n",
        "import time\n",
        "from collections import namedtuple\n",
        "import matplotlib.pyplot as plt\n",
        "import traceback\n",
        "import weakref\n",
        "from IPython.core.magic import register_cell_magic\n",
        "\n",
        "TrainingInfo = namedtuple('TrainingInfo', [\n",
        "  'trainer', 'model', 'key', 'epoch', 'step', 'exception'\n",
        "])\n",
        "\n",
        "@register_cell_magic\n",
        "def store_code(line, cell):\n",
        "  obj = get_ipython().run_cell(cell).result\n",
        "  if obj is None:\n",
        "    raise ValueError('Cell with %%save_code magic must end with model instance.')\n",
        "  obj.definition_cell = tf.Variable(cell)\n",
        "\n",
        "class Trainee(object):\n",
        "  @property\n",
        "  def model(self):\n",
        "    return None\n",
        "  def begin_epoch(self, info):\n",
        "    pass\n",
        "  def end_epoch(self, info):\n",
        "    pass\n",
        "  def train_step(self, info, batch):\n",
        "    return dict()\n",
        "\n",
        "class SavedModelTrainee(Trainee):\n",
        "  def __init__(self, save_dir, model=None, train_step_name='train_step'):\n",
        "    self._model = model\n",
        "    self._save_dir = save_dir\n",
        "    self._train_step_name = train_step_name\n",
        "    self._train_step_fn = None\n",
        "    self.end_epoch({})\n",
        "\n",
        "  @property\n",
        "  def model(self):\n",
        "    try:\n",
        "      return weakref.proxy(self._model)\n",
        "    except:\n",
        "      return None\n",
        "\n",
        "  def begin_epoch(self, info):\n",
        "    self._model = tf.saved_model.load(self._save_dir)\n",
        "    #for k, v in list(self._model.__dict__.items()):\n",
        "    #  if k.startswith('__constant_'):\n",
        "    #    setattr(self._model, k[len('__constant_'):], v.value())\n",
        "    #    delattr(self._model, k)\n",
        "    self._train_step_fn = getattr(self._model, self._train_step_name)\n",
        "\n",
        "  def end_epoch(self, info):\n",
        "    if self._model is not None:\n",
        "      #for k, v in list(self._model.__dict__.items()):\n",
        "      #  if isinstance(v, (int, float, complex, bool, str, np.ndarray, tf.Tensor, list, tuple)):\n",
        "      #    print(k, v, type(v))\n",
        "      #    try:\n",
        "      #      v = tf.Variable(v)\n",
        "      #      setattr(self._model, '__constant_{}'.format(k), v)\n",
        "      #    except ValueError:\n",
        "      #      pass\n",
        "      tf.saved_model.save(self._model, self._save_dir)\n",
        "    self._model = None\n",
        "\n",
        "  def train_step(self, info, batch):\n",
        "    return self._train_step_fn(batch)\n",
        "\n",
        "class Trainer(object):\n",
        "  def __init__(self, ds_train, ds_val=None, max_epoch=None):\n",
        "    self._ds_train = ds_train\n",
        "    self._ds_val = ds_val\n",
        "    self.max_epoch = max_epoch\n",
        "    self._trainees = dict()\n",
        "    self._trainee_info = dict()\n",
        "    self._losses = dict()\n",
        "    self._current_model = None\n",
        "    self._on_exception_funcs = []\n",
        "    self._before_step_funcs = []\n",
        "    self._after_step_funcs = []\n",
        "    self._before_epoch_funcs = []\n",
        "    self._after_epoch_funcs = []\n",
        "\n",
        "  @property\n",
        "  def current_model(self):\n",
        "    return self._current_model\n",
        "\n",
        "  def start(self):\n",
        "    def run(self):\n",
        "      self._losses = dict()\n",
        "\n",
        "      while True:\n",
        "        if threading.current_thread() is not self._thread:\n",
        "          break\n",
        "        keys = [k for k, v in self._trainee_info.items() if not v['ignore']]\n",
        "        if not keys:\n",
        "          time.sleep(1)\n",
        "          continue\n",
        "        key = min(keys, key=lambda k: self._trainee_info[k]['epoch'])\n",
        "        trainee = self._trainees[key]\n",
        "        info = self._trainee_info[key]\n",
        "        epoch = info['epoch']\n",
        "        if self.max_epoch is not None and epoch >= self.max_epoch:\n",
        "          time.sleep(1)\n",
        "          continue\n",
        "\n",
        "        def _info():\n",
        "          fields = {k: info[k] for k in TrainingInfo._fields[2:]}\n",
        "          return TrainingInfo(self, trainee.model, **fields)\n",
        "        def dispatch(name):\n",
        "          funcs = getattr(self, '_'+name+'_funcs')\n",
        "          if funcs:\n",
        "            info = _info()\n",
        "            for f in funcs:\n",
        "              try:\n",
        "                f(info)\n",
        "              except:\n",
        "                traceback.print_exc()\n",
        "\n",
        "        trainee.begin_epoch(_info())\n",
        "        self._current_model = trainee.model\n",
        "        dispatch('before_epoch')\n",
        "\n",
        "        for i, batch in enumerate(self._ds_train):\n",
        "          if threading.current_thread() is not self._thread:\n",
        "            break\n",
        "          if key not in self._trainees:\n",
        "            break\n",
        "          info['step'] = i\n",
        "          dispatch('before_step')\n",
        "          try:\n",
        "            _losses = trainee.train_step(_info(), batch)\n",
        "            for k, v in _losses.items():\n",
        "              self._losses.setdefault(k, {}).setdefault(key, {}).setdefault(epoch, []).append(float(v))\n",
        "          except:\n",
        "            info['exception'] = traceback.format_exc()\n",
        "            info['ignore'] = True\n",
        "            dispatch('on_exception')\n",
        "            break\n",
        "          dispatch('after_step')\n",
        "\n",
        "        dispatch('after_epoch')\n",
        "        self._current_model = None\n",
        "        trainee.end_epoch(_info())\n",
        "        info['epoch'] = epoch + 1\n",
        "\n",
        "    _self = weakref.proxy(self)\n",
        "    def _run():\n",
        "      try:\n",
        "        run(_self)\n",
        "      except ReferenceError:\n",
        "        pass\n",
        "      except:\n",
        "        exc = traceback.format_exc()\n",
        "        for f in self._on_exception_funcs:\n",
        "          try:\n",
        "            f(TrainingInfo(_self, *([None]*5))._replace(exception=exc))\n",
        "          except:\n",
        "            traceback.print_exc()\n",
        "    self._thread = threading.Thread(target=_run)\n",
        "    self._thread.start()\n",
        "\n",
        "  def stop(self):\n",
        "    self._thread = None\n",
        "\n",
        "  def __del__(self):\n",
        "    self.stop()\n",
        "\n",
        "  def add(self, key, trainee):\n",
        "    if key in self._trainees:\n",
        "      raise ValueError('{} is already listed.'.format(key))\n",
        "    self._trainees[key] = trainee\n",
        "    self._trainee_info[key] = {\n",
        "        'key': key,\n",
        "        'epoch': 0,\n",
        "        'step': 0,\n",
        "        'exception': None,\n",
        "        'ignore': False\n",
        "    }\n",
        "\n",
        "  def remove(self, key):\n",
        "    self._trainee_info.pop(key)\n",
        "    self._trainees.pop(key)\n",
        "\n",
        "  def plot_loss(self, loss_key):\n",
        "    losses = self._losses[loss_key]\n",
        "    steps = max(max(len(y) for y in x.values()) for x in losses.values())\n",
        "\n",
        "    for trainee_key, _losses in losses.items():\n",
        "      x = []\n",
        "      y = []\n",
        "      for epoch, __losses in sorted(_losses.items(), key=lambda x: x[0]):\n",
        "        x += [epoch * steps + i for i in range(len(__losses))]\n",
        "        y += __losses\n",
        "      plt.plot(x, y, label=trainee_key)\n",
        "    plt.legend()\n",
        "\n",
        "  def on_exception(self, func):\n",
        "    self._on_exception_funcs.append(func)\n",
        "    return func\n",
        "  def before_step(self, func):\n",
        "    self._before_step_funcs.append(func)\n",
        "    return func\n",
        "  def after_step(self, func):\n",
        "    self._after_step_funcs.append(func)\n",
        "    return func\n",
        "  def before_epoch(self, func):\n",
        "    self._before_epoch_funcs.append(func)\n",
        "    return func\n",
        "  def after_epoch(self, func):\n",
        "    self._after_epoch_funcs.append(func)\n",
        "    return func"
      ],
      "execution_count": 0,
      "outputs": []
    },
    {
      "cell_type": "code",
      "metadata": {
        "id": "dxPlyBqhLHbP",
        "colab_type": "code",
        "cellView": "both",
        "colab": {}
      },
      "source": [
        "#@title Test\n",
        "import time\n",
        "import tensorflow as tf\n",
        "\n",
        "dataset = tf.data.Dataset.range(5).map(lambda x: tf.cast(x, tf.float32))\n",
        "trainer = Trainer(dataset)\n",
        "trainer.max_epoch = 1\n",
        "\n",
        "@trainer.on_exception\n",
        "def on_exception(info):\n",
        "  print(info.exception)\n",
        "\n",
        "trainer.start()\n",
        "\n",
        "@trainer.before_step\n",
        "def before_step(info):\n",
        "  print(info)\n",
        "  print('{}: epoch{}, step{}'.format(info.key, info.epoch, info.step))\n",
        "\n",
        "class Model(tf.Module):\n",
        "  def __init__(self, m):\n",
        "    self.m = tf.Variable(m)\n",
        "    self.s = tf.Variable(0.)\n",
        "    self.v = tf.Variable(1, dtype=tf.int32, trainable=False)\n",
        "\n",
        "  @tf.function(input_signature=[tf.TensorSpec([])])\n",
        "  def train_step(self, x):\n",
        "    self.s.assign_add(1.)\n",
        "    return {'output': x*self.m + self.s}\n",
        "\n",
        "model1 = Model(2.)\n",
        "trainee1 = SavedModelTrainee('trainee1', model1)\n",
        "del model1\n",
        "trainer.add('trainee1', trainee1)\n",
        "\n",
        "time.sleep(5)\n",
        "\n",
        "model2 = Model(3.)\n",
        "trainee2 = SavedModelTrainee('trainee2', model2)\n",
        "del model2\n",
        "trainer.add('trainee2', trainee2)\n",
        "\n",
        "trainer.max_epoch = 8\n",
        "time.sleep(10)\n",
        "\n",
        "trainer.plot_loss('output')\n",
        "trainer.stop()"
      ],
      "execution_count": 0,
      "outputs": []
    }
  ]
}